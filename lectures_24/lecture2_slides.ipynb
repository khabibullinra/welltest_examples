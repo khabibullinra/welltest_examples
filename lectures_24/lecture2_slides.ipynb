{
 "cells": [
  {
   "cell_type": "markdown",
   "id": "bcf9a5a6-100c-438d-aced-89078b74e2dd",
   "metadata": {
    "editable": true,
    "slideshow": {
     "slide_type": "slide"
    },
    "tags": []
   },
   "source": [
    "# Лекция 2. Гидродинамические исследования скважин и пластов\n",
    "Простые решения и методы их построения"
   ]
  },
  {
   "cell_type": "markdown",
   "id": "14a0a8fe-8a6f-4c1e-92f3-85014c6f28a3",
   "metadata": {
    "editable": true,
    "slideshow": {
     "slide_type": "slide"
    },
    "tags": []
   },
   "source": [
    "## Цели\n",
    "- Гидродинамические исследования основаны на моделях\n",
    "- надо разобраться с моделями"
   ]
  },
  {
   "cell_type": "code",
   "execution_count": null,
   "id": "14e31bb5-2048-4bda-8e1c-57092af48520",
   "metadata": {
    "editable": true,
    "slideshow": {
     "slide_type": ""
    },
    "tags": []
   },
   "outputs": [],
   "source": []
  }
 ],
 "metadata": {
  "kernelspec": {
   "display_name": "Python 3 (ipykernel)",
   "language": "python",
   "name": "python3"
  },
  "language_info": {
   "codemirror_mode": {
    "name": "ipython",
    "version": 3
   },
   "file_extension": ".py",
   "mimetype": "text/x-python",
   "name": "python",
   "nbconvert_exporter": "python",
   "pygments_lexer": "ipython3",
   "version": "3.12.5"
  }
 },
 "nbformat": 4,
 "nbformat_minor": 5
}
