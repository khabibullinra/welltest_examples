{
 "cells": [
  {
   "cell_type": "markdown",
   "id": "7be66922-88cc-44ab-aa81-b8cbf17631e4",
   "metadata": {},
   "source": [
    "# Примеры преобразования размерных величин \n",
    "Преобразования размерных величин удобно выполнять с модулем символьных вычислений `python` - `sympy`. \n",
    "Преобразования размерностей ключевых величин полезно знать наизусть, хотя всегда можно найти их в таблицах. Значения многих физические константы зашины в модуле `scipy.constants`, иногда это оказывается удобным, при этом автоматически будет учитываться достаточно большое количество знаков после запятой в константах.\n",
    "Рассмотрим размерности ряда величин широко применяемых в нефтяном инжиниринге.\n"
   ]
  },
  {
   "cell_type": "code",
   "execution_count": 1,
   "id": "d9371a95-4c41-4b86-a07e-8f0edfff72b9",
   "metadata": {},
   "outputs": [],
   "source": [
    "import sympy as sp\n",
    "import scipy.constants as const"
   ]
  },
  {
   "cell_type": "code",
   "execution_count": 2,
   "id": "87ee5cbd-df9d-4266-9fc0-31a9c3f4acf5",
   "metadata": {},
   "outputs": [
    {
     "name": "stdout",
     "output_type": "stream",
     "text": [
      "3.141592653589793\n"
     ]
    }
   ],
   "source": [
    "# в модуле scipy.constants есть значения общепринятых констант -например значение pi\n",
    "print(const.pi)"
   ]
  },
  {
   "cell_type": "markdown",
   "id": "81f07a5e-ab4f-46df-a4aa-0976828e5fda",
   "metadata": {},
   "source": [
    "### Объемный расход $q$\n",
    "\n",
    "В СИ измеряется в [м$^3$/сек], в практических метрических единицах измеряется в [м$^3$/сут], в американских промысловых единицах измеряется в [bbl/day].\n",
    "\n",
    "* $1$ [м$^3$/сек] = $543439$ [bbl/day] = $86400$ [м$^3$/сут]\n",
    "* $1$ [м$^3$/сут] = $\\dfrac{1}{86400}$ [м$^3$/сек] $= 1.157407 \\cdot 10^{-5}$ [м$^3$/сек]\n",
    "* $1$ [bbl/day] = $0.15898$ [м$^3$/сут]"
   ]
  },
  {
   "cell_type": "code",
   "execution_count": 8,
   "id": "8673c325-efd3-43bb-a9b7-a0f82b1bef52",
   "metadata": {},
   "outputs": [
    {
     "name": "stdout",
     "output_type": "stream",
     "text": [
      "Одни [сут] = 86400 = 86400.0  [сек]\n",
      "Один [м3/сут] = 1.1574074074074073e-05 [м3/сек]\n",
      "Один баррель в день [bbl/day] = 0.15898729492799998 [м3/сут]\n",
      "Один баррель в день [bbl/day] = 1.8401307283333331e-06 [м3/сек]\n",
      "Один [м3/сут] = 1.1574074074074073e-05 [м3/сек]\n"
     ]
    }
   ],
   "source": [
    "# выведем некоторые переводные коэффициенты для объемных расходов\n",
    "print(f'Одни [сут] = {24*60*60} = {const.day}  [сек]')\n",
    "print(f'Один [м3/сут] = {1/const.day} [м3/сек]')\n",
    "print(f'Один баррель в день [bbl/day] = {const.bbl} [м3/сут]')\n",
    "print(f'Один баррель в день [bbl/day] = {const.bbl/const.day} [м3/сек]')\n",
    "print(f'Один [м3/сут] = {1/const.day} [м3/сек]')"
   ]
  },
  {
   "cell_type": "markdown",
   "id": "e22b8757-6843-4136-93d8-5097b1df57d0",
   "metadata": {},
   "source": [
    "### Проницаемость $k$\n",
    "\n",
    "В СИ измеряется в [м$^2$], в практических метрических единицах измеряется в [мД], в американских промысловых единицах измеряется в [mD].\n",
    "\n",
    "Определение: в пористой среде с проницаемостью в один Дарси для поддержания течения жидкости с динамической вязкостью 1 сП со скоростью фильтрации 1 см/с необходимо поддерживать перепад давления жидкости приблизительно в одну атмосферу на 1 см вдоль направления течения. При использовании физической атмосферы для расчета перепада давления (физическая атмосфера = 101 325 Па) единица проницаемости равняется приблизительно 0.986923 мкм². \n",
    "\n",
    "В отечественной литературе при определении дарси в качестве величины атмосферы было принято использовать техническую атмосферу (1 кгс/см² = 98 066,5 Па), так что для величины дарси получалось значение приблизительно 1,02 мкм², причём эпизодические случаи использования западного определения дарси специально отмечались [[ru.wikipedia.org/wiki/Дарси](https://ru.wikipedia.org/wiki/%D0%94%D0%B0%D1%80%D1%81%D0%B8)]. Согласно  ГОСТ 26450.2-85 величины 1 Дарси $= 0.9869⋅10^{−12}$ м².\n",
    "\n",
    "* $1$ [м$^2$] = $1.01325 \\cdot 10^{15}$ [мД]\n",
    "* $1$ [мД] = $0.986923 \\cdot 10^{-15}$ [м$^2$]"
   ]
  },
  {
   "cell_type": "code",
   "execution_count": 9,
   "id": "2dca7dc5-89f6-4ac3-858b-e5d561084eed",
   "metadata": {},
   "outputs": [
    {
     "name": "stdout",
     "output_type": "stream",
     "text": [
      "Один [мД] = 9.86923266716013e-16 [м²]\n"
     ]
    }
   ],
   "source": [
    "print(f'Один [мД] = {1e5/const.atm * 1e-15} [м²]')"
   ]
  },
  {
   "cell_type": "markdown",
   "id": "b6085784-0af1-4b52-8660-81cc06a24d98",
   "metadata": {},
   "source": [
    "\n",
    "\n",
    "### Вязкость $\\mu$\n",
    "\n",
    "* $1$ [Па$\\cdot$с] = $1000$ [сП]\n",
    "* $1$ [сП] = $10^{-3}$ [Па$\\cdot$с]\n",
    "\n",
    "### Давление $p$\n",
    "* $1$ [Па] = $0.0001450$ [psi] = $0.00000987$ [атм]\n",
    "* $1$ [атм] = $14.6959$ [psi] = $101325$ [Па]\n"
   ]
  },
  {
   "cell_type": "code",
   "execution_count": 5,
   "id": "edd77e09-d5f3-48da-9b71-6f6ce0be48f2",
   "metadata": {},
   "outputs": [
    {
     "name": "stdout",
     "output_type": "stream",
     "text": [
      "Один  [psi] в [Па] = 6894.757293168361\n",
      "Один  [bar] в [Па] = 100000.0\n",
      "Один  [atm] в [Па] = 101325.0\n",
      "Один  [at] в [Па] = 98066.5\n",
      "Один  [atm] в [psi] = 14.69594877551345\n"
     ]
    }
   ],
   "source": [
    "AT = 98066.5  # technical atmosphere in Pa,  техническая атмосфера в Па\n",
    "print(f'Один  [psi] в [Па] = {const.psi}')\n",
    "print(f'Один  [bar] в [Па] = {const.bar}')\n",
    "print(f'Один  [atm] в [Па] = {const.atm}')\n",
    "print(f'Один  [at] в [Па] = {AT}')\n",
    "print(f'Один  [atm] в [psi] = {const.atm/const.psi}')"
   ]
  },
  {
   "cell_type": "markdown",
   "id": "0cd0798b-34dc-49bc-8c9f-854092efe4a2",
   "metadata": {},
   "source": [
    "\n",
    "### Расстояние $x$\n",
    "\n",
    "* $1$ [м] = $3.28$ [ft]\n",
    "\n"
   ]
  },
  {
   "cell_type": "markdown",
   "id": "02a240d5-a5da-4420-8685-e971b8792ba5",
   "metadata": {},
   "source": [
    "# Размерный коэффициент для формулы Дюпюи\n",
    "Используя рассчитанные выше переводные коэффициенты для различных размерных величин рассчитаем переводной коэффициент в формуле Дюпюи\n",
    "\n",
    "$$ Q = \\frac{ 2 \\pi kh}{ \\mu B} \\frac{  \\left( p_i - p \\right) } {\\ln{\\dfrac{r_e}{r_w}} +S } $$\n",
    "\n"
   ]
  },
  {
   "cell_type": "code",
   "execution_count": 23,
   "id": "d3520ee4-3186-485d-a237-638bde34ea0b",
   "metadata": {},
   "outputs": [],
   "source": [
    "# зададим переменные sympy\n",
    "Q, k, h, mu, B, pres, pwf, re, rw, S, pi = sp.symbols('Q k h mu B p_res p_wf r_e r_w S pi', real=True, positive=True)"
   ]
  },
  {
   "cell_type": "code",
   "execution_count": 24,
   "id": "ea5517cf-e970-40ca-b70c-33a25fd9c3d5",
   "metadata": {},
   "outputs": [
    {
     "data": {
      "text/latex": [
       "$\\displaystyle Q = \\frac{2 h k \\pi \\left(p_{res} - p_{wf}\\right)}{B \\mu \\left(S + \\log{\\left(\\frac{r_{e}}{r_{w}} \\right)}\\right)}$"
      ],
      "text/plain": [
       "Eq(Q, 2*h*k*pi*(p_res - p_wf)/(B*mu*(S + log(r_e/r_w))))"
      ]
     },
     "execution_count": 24,
     "metadata": {},
     "output_type": "execute_result"
    }
   ],
   "source": [
    "# определим уравнение\n",
    "eq = sp.Eq(Q, 2 * pi * k * h / (mu * B) * (pres - pwf) / (sp.ln(re/rw) + S))\n",
    "eq"
   ]
  },
  {
   "cell_type": "code",
   "execution_count": 25,
   "id": "4dc8fa48-2a1d-4ba1-bb4f-659934648f35",
   "metadata": {},
   "outputs": [
    {
     "data": {
      "text/latex": [
       "$\\displaystyle 1.15740740740741 \\cdot 10^{-5} Q = \\frac{6.20102176874373 \\cdot 10^{-12} h k \\left(101325.0 p_{res} - 101325.0 p_{wf}\\right)}{B \\mu \\left(S + \\log{\\left(\\frac{r_{e}}{r_{w}} \\right)}\\right)}$"
      ],
      "text/plain": [
       "Eq(1.15740740740741e-5*Q, 6.20102176874373e-12*h*k*(101325.0*p_res - 101325.0*p_wf)/(B*mu*(S + log(r_e/r_w))))"
      ]
     },
     "metadata": {},
     "output_type": "display_data"
    }
   ],
   "source": [
    "# подставим в уравнение переводные величины\n",
    "eq = eq.subs(Q, 1/const.day * Q)  # дебит, [м3/сут] в [м3/сек]\n",
    "f_k = 1e5/const.atm * 1e-15 \n",
    "eq = eq.subs(k, f_k * k)     # проницаемость, [мД] в [м2]\n",
    "eq = eq.subs(mu, 1e-3 * mu)  # вязкость, [сП] в [Па сек]\n",
    "eq = eq.subs(pres, const.atm * pres) # давление [атм] в [Па]\n",
    "eq = eq.subs(pwf, const.atm * pwf) # давление [атм] в [Па]\n",
    "eq = eq.subs(pi, const.pi)\n",
    "\n",
    "display(eq)\n"
   ]
  },
  {
   "cell_type": "markdown",
   "id": "b9f4e036-3f53-445a-953f-b5671ba05fa9",
   "metadata": {},
   "source": [
    "Решим полученное уравнение относительно Q и упростим средствами `sympy`"
   ]
  },
  {
   "cell_type": "code",
   "execution_count": 26,
   "id": "da43b99f-19f3-4788-b83a-e4b89b317408",
   "metadata": {},
   "outputs": [
    {
     "data": {
      "text/latex": [
       "$\\displaystyle Q = \\frac{0.0542867210540316 h k \\left(p_{res} - p_{wf}\\right)}{B \\mu \\left(S + \\log{\\left(\\frac{r_{e}}{r_{w}} \\right)}\\right)}$"
      ],
      "text/plain": [
       "Eq(Q, 0.0542867210540316*h*k*(p_res - p_wf)/(B*mu*(S + log(r_e/r_w))))"
      ]
     },
     "metadata": {},
     "output_type": "display_data"
    }
   ],
   "source": [
    "eq1 = sp.simplify(sp.solve(eq,Q)[0])\n",
    "display(sp.Eq(Q,eq1))"
   ]
  },
  {
   "cell_type": "markdown",
   "id": "73505532-9b06-4380-b768-6e7595642600",
   "metadata": {},
   "source": [
    "Выделим полученную константу в явном виде и найдем обратную величину - это и будет необходимый нам переводной коэффициент."
   ]
  },
  {
   "cell_type": "code",
   "execution_count": 27,
   "id": "2074889c-ab9f-439c-b647-e4646dac2cca",
   "metadata": {},
   "outputs": [
    {
     "data": {
      "text/latex": [
       "$\\displaystyle 18.4207110060064$"
      ],
      "text/plain": [
       "18.4207110060064"
      ]
     },
     "execution_count": 27,
     "metadata": {},
     "output_type": "execute_result"
    }
   ],
   "source": [
    "f = 1/eq1.args[0]\n",
    "f"
   ]
  },
  {
   "cell_type": "markdown",
   "id": "87200b62-5203-48c2-9b9c-cdabee3673c3",
   "metadata": {},
   "source": [
    "По умолчанию `sympy` автоматически организует порядок элементов в своих выражениях. Этот порядок может отличаться от привычного - хотя и суть формул при этом не меняется. Применяя некоторые хитрости можно заставить `sympy` вывести выражения в приемлимом виде."
   ]
  },
  {
   "cell_type": "code",
   "execution_count": 28,
   "id": "487c0854-e97b-43bc-9e9e-6ca817d79c04",
   "metadata": {},
   "outputs": [
    {
     "data": {
      "text/latex": [
       "$\\displaystyle \\frac{h k \\left(p_{res} - p_{wf}\\right)}{18.4207110060064 B \\mu \\left(S + \\log{\\left(\\frac{r_{e}}{r_{w}} \\right)}\\right)}$"
      ],
      "text/plain": [
       "h*k*(p_res - p_wf)/(18.4207110060064*B*mu*(S + log(r_e/r_w)))"
      ]
     },
     "metadata": {},
     "output_type": "display_data"
    }
   ],
   "source": [
    "a = sp.symbols('a')\n",
    "eq2 = eq1.subs(eq1.args[0],1/a)\n",
    "with sp.evaluate(False):\n",
    "    display(eq2.subs(a, f))"
   ]
  },
  {
   "cell_type": "markdown",
   "id": "46b4f919-ec78-4826-bf66-edacabb78764",
   "metadata": {},
   "source": [
    "Но иногда результат проще переписать руками в нужном виде. В итоге уравнение Дюпюи в практических метрических единицах измерения примет вид.\n",
    "\n",
    "$$ Q = \\frac{ kh}{18.42  \\mu B} \\frac{  \\left( p_i - p \\right) } {\\ln{\\dfrac{r_e}{r_w}} +S } $$\n",
    "\n",
    "где\n",
    "\n",
    "* $Q$ - дебит скважины на поверхности, приведенный к нормальным условиям, ст. м$^3$/сут\n",
    "* $\\mu$ - вязкость нефти в пласте, сП\n",
    "* $B$ - объемный коэффициент нефти, м$^3$/м$^3$\n",
    "* $P_{res}$ - пластовое давление или давление на контуре с радиусом $r_e$, атма\n",
    "* $P_{wf}$ - давление забойное, атма\n",
    "* $k$ - проницаемость, мД\n",
    "* $h$ - мощность пласта, м\n",
    "* $r_e$ - внешний контур дренирования скважины, м\n",
    "* $r_w$ - радиус скважины, м\n",
    "* $S$ - скин-фактор скважины, м"
   ]
  },
  {
   "cell_type": "code",
   "execution_count": null,
   "id": "51551dbe-63e2-4b7a-92c8-c66063956434",
   "metadata": {},
   "outputs": [],
   "source": []
  }
 ],
 "metadata": {
  "kernelspec": {
   "display_name": "Python 3 (ipykernel)",
   "language": "python",
   "name": "python3"
  },
  "language_info": {
   "codemirror_mode": {
    "name": "ipython",
    "version": 3
   },
   "file_extension": ".py",
   "mimetype": "text/x-python",
   "name": "python",
   "nbconvert_exporter": "python",
   "pygments_lexer": "ipython3",
   "version": "3.12.3"
  }
 },
 "nbformat": 4,
 "nbformat_minor": 5
}
