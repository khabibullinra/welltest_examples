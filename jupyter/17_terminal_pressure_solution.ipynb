{
 "cells": [
  {
   "cell_type": "markdown",
   "id": "demanding-picture",
   "metadata": {},
   "source": [
    "# Решения уравнения фильтрации для постоянного дебита\n",
    "\n",
    "Материалы курсов \"Исследования скважин и пластов\" и \"Гидродинамические исследования скважин\" в РГУ нефти и газа имени И.М.Губкина.\n",
    "\n",
    "Хабибуллин Ринат 2021 г.\n",
    "\n",
    "версия 0.1 от 08.10.2021\n",
    "\n",
    "---"
   ]
  },
  {
   "cell_type": "markdown",
   "id": "numeric-breed",
   "metadata": {},
   "source": [
    "Решение для бесконечно малого радиуса скважины в пространстве Лапласа будет иметь вид\n",
    "\n",
    "$$ \\tilde{p}_D(s) = \\frac{1}{s} K_0 \\left( r_D \\sqrt s  \\right) $$\n",
    "\n",
    "где \n",
    "\n",
    "$K_0$ - <a href=\"https://ru.wikipedia.org/wiki/%D0%9C%D0%BE%D0%B4%D0%B8%D1%84%D0%B8%D1%86%D0%B8%D1%80%D0%BE%D0%B2%D0%B0%D0%BD%D0%BD%D1%8B%D0%B5_%D1%84%D1%83%D0%BD%D0%BA%D1%86%D0%B8%D0%B8_%D0%91%D0%B5%D1%81%D1%81%D0%B5%D0%BB%D1%8F\"\n",
    "                        target=\"_blank\" rel=\"noreferrer noopener\">модифицированная функция Бесселя&nbsp;</a>"
   ]
  },
  {
   "cell_type": "markdown",
   "id": "capable-carpet",
   "metadata": {},
   "source": [
    "Решение для конечного радиуса скважины в пространстве Лапласа будет иметь вид\n",
    "\n",
    "\n",
    "$$ \\tilde{p}_D(s) = \\frac{1}{s^{\\frac{3}{2}}} \\frac{ K_0 \\left( r_D \\sqrt s  \\right) }{K_1 \\left(  \\sqrt s  \\right)} $$\n",
    "\n",
    "где \n",
    "\n",
    "$K_0$, $K_1$ - <a href=\"https://ru.wikipedia.org/wiki/%D0%9C%D0%BE%D0%B4%D0%B8%D1%84%D0%B8%D1%86%D0%B8%D1%80%D0%BE%D0%B2%D0%B0%D0%BD%D0%BD%D1%8B%D0%B5_%D1%84%D1%83%D0%BD%D0%BA%D1%86%D0%B8%D0%B8_%D0%91%D0%B5%D1%81%D1%81%D0%B5%D0%BB%D1%8F\"\n",
    "                        target=\"_blank\" rel=\"noreferrer noopener\">модифицированные функции Бесселя&nbsp;</a>"
   ]
  },
  {
   "cell_type": "markdown",
   "id": "intense-summit",
   "metadata": {},
   "source": [
    "Для случая постоянного забойного давления можно получить\n",
    "\n",
    "$$ \\tilde{q}_D(s) = \\frac{1}{s^{\\frac{1}{2}}} \\frac{ K_1 \\left(  \\sqrt s  \\right) }{K_0 \\left(  \\sqrt s  \\right)} $$\n"
   ]
  },
  {
   "cell_type": "markdown",
   "id": "dramatic-forward",
   "metadata": {},
   "source": [
    "Можно заметить для выражений для давления и дебита в пространстве Лапласа верно \n",
    "\n",
    "$$ \\tilde{p}_D(s) \\tilde{q}_D(s) =\\frac{1}{s}  $$"
   ]
  },
  {
   "cell_type": "code",
   "execution_count": 1,
   "id": "closed-collectible",
   "metadata": {},
   "outputs": [],
   "source": [
    "# импортируем библиотки, которые могут пригодиться для проведения расчетов\n",
    "import numpy as np\n",
    "import matplotlib.pyplot as plt\n",
    "from mpmath import *\n",
    "mp.dps = 15; mp.pretty = True\n",
    "\n",
    "%matplotlib inline"
   ]
  },
  {
   "cell_type": "code",
   "execution_count": 2,
   "id": "sophisticated-horizon",
   "metadata": {},
   "outputs": [],
   "source": [
    "# решение линейного стока в пространстве Лапласа\n",
    "def pd_line_source_lapl(s, rd=1):\n",
    "  return 1/s * besselk(0, rd*s**0.5)\n",
    "\n",
    "# решение конечного радиуса скважины в пространстве Лапласа для случая постоянного дебита\n",
    "def pd_rw_lapl(s, rd=1):\n",
    "  return 1/s**(3/2) * besselk(0, rd*s**0.5) / besselk(1, s**0.5)\n",
    "\n",
    "# решение конечного радиуса скважины в пространстве Лапласа для случая постоянного забойного давления\n",
    "def qd_rw_lapl(s):\n",
    "  return 1/s**(1/2) * besselk(1, s**0.5) / besselk(0, s**0.5)"
   ]
  },
  {
   "cell_type": "code",
   "execution_count": 3,
   "id": "pressed-equation",
   "metadata": {},
   "outputs": [],
   "source": [
    "# реализация функций расчета обратного преобразования Лапласа\n",
    "def pd_line_source(rd, td):\n",
    "  fp = lambda p: pd_line_source_lapl(p, rd)\n",
    "  return invertlaplace(fp, td, method='stehfest', degree = 5)\n",
    "\n",
    "def pd_rw(rd, td):\n",
    "  fp = lambda p: pd_rw_lapl(p, rd)\n",
    "  return invertlaplace(fp, td, method='stehfest', degree = 5)\n",
    "\n",
    "def qd_rw(td):\n",
    "    return invertlaplace(qd_rw_lapl, td, method='stehfest', degree = 5)\n"
   ]
  },
  {
   "cell_type": "code",
   "execution_count": 4,
   "id": "ready-world",
   "metadata": {},
   "outputs": [],
   "source": [
    "# корректируем размер графика, чтобы было побольше \n",
    "plt.rcParams['figure.figsize'] = [9, 7]"
   ]
  },
  {
   "cell_type": "markdown",
   "id": "unauthorized-catholic",
   "metadata": {},
   "source": [
    "# Построение графика изменения давления после запуска при постоянном дебите\n",
    "\n",
    "Решение для конечного радиуса скважины в пространстве Лапласа будет иметь вид\n",
    "\n",
    "\n",
    "$$ \\tilde{p}_D(s) = \\frac{1}{s^{\\frac{3}{2}}} \\frac{ K_0 \\left( r_D \\sqrt s  \\right) }{K_1 \\left(  \\sqrt s  \\right)} $$\n"
   ]
  },
  {
   "cell_type": "code",
   "execution_count": 5,
   "id": "subsequent-blood",
   "metadata": {},
   "outputs": [
    {
     "data": {
      "image/png": "[encoded data removed]",
      "text/plain": [
       "<Figure size 648x504 with 2 Axes>"
      ]
     },
     "metadata": {
      "needs_background": "light"
     },
     "output_type": "display_data"
    }
   ],
   "source": [
    "rd=1    # нас интересует только забойное давление\n",
    "\n",
    "td = np.arange(1, 1000, 10)  # задаем диапазон изменений безразмерного времени\n",
    "\n",
    "# для отрисовки графика дебита зададим массив с постоянным дебитом с момента td=0\n",
    "qd = [1 for i in td]\n",
    "td_q = [0,0,td[-1]]\n",
    "qd_q = [0,1,1]\n",
    "\n",
    "# рассчитаем массивы изменения давления - двумя способами - для линейного стока и конечного радиуса скважины\n",
    "pd = [pd_line_source(rd, ti) for ti in td ]\n",
    "pd2 = [pd_rw(rd, ti) for ti in td ]\n",
    "\n",
    "# построим график отображающий рассчитанные значения\n",
    "fig, (ax1, ax2) = plt.subplots(2,1, gridspec_kw={'height_ratios': [2, 1]})\n",
    "ax1.plot(td, pd)\n",
    "ax1.plot(td, pd2)\n",
    "ax1.set_xlabel(\"$t_D$\")\n",
    "ax1.set_ylabel(\"$p_D$\")\n",
    "\n",
    "ax2.plot(td_q, qd_q)\n",
    "ax2.set_xlabel(\"$t_D$\")\n",
    "ax2.set_ylabel(\"$q_D$\")\n",
    "plt.show()"
   ]
  },
  {
   "cell_type": "markdown",
   "id": "included-monday",
   "metadata": {},
   "source": [
    "# Построение графика изменения дебита после запуска с постоянным забойным давлением\n",
    "Для случая постоянного забойного давления можно получить\n",
    "\n",
    "$$ \\tilde{q}_D(s) = \\frac{1}{s^{\\frac{1}{2}}} \\frac{ K_1 \\left(  \\sqrt s  \\right) }{K_0 \\left(  \\sqrt s  \\right)} $$"
   ]
  },
  {
   "cell_type": "code",
   "execution_count": 6,
   "id": "cordless-shannon",
   "metadata": {},
   "outputs": [
    {
     "data": {
      "image/png": "[encoded data removed]",
      "text/plain": [
       "<Figure size 648x504 with 2 Axes>"
      ]
     },
     "metadata": {
      "needs_background": "light"
     },
     "output_type": "display_data"
    }
   ],
   "source": [
    "rd=1    # нас интересует только забойное давление\n",
    "td = np.arange(1, 1000, 10)    # задаем диапазон изменений безразмерного времени\n",
    "pd = [1 for i in td]\n",
    "\n",
    "# для отрисовки графика давлений зададим массив с постоянным давлением с момента td=0\n",
    "td_q = [0,0,td[-1]]\n",
    "pd_q = [0,1,1]\n",
    "\n",
    "# рассчитаем массивы изменения дебита \n",
    "qd = [qd_rw(ti) for ti in td ]\n",
    "\n",
    "# построим график отображающий рассчитанные значения\n",
    "fig, (ax1, ax2) = plt.subplots(2,1, gridspec_kw={'height_ratios': [1, 2]})\n",
    "ax1.plot(td_q, pd_q)\n",
    "ax1.set_xlabel(\"$t_D$\")\n",
    "ax1.set_ylabel(\"$p_D$\")\n",
    "\n",
    "ax2.plot(td, qd, color='green')\n",
    "ax2.set_xlabel(\"$t_D$\")\n",
    "ax2.set_ylabel(\"$q_D$\")\n",
    "plt.show()\n"
   ]
  },
  {
   "cell_type": "markdown",
   "id": "mounted-hollow",
   "metadata": {},
   "source": [
    "# Задание \n",
    "\n",
    "1. Постройте графики в размерных переменных"
   ]
  },
  {
   "cell_type": "code",
   "execution_count": null,
   "id": "virgin-heart",
   "metadata": {},
   "outputs": [],
   "source": []
  }
 ],
 "metadata": {
  "kernelspec": {
   "display_name": "Python 3 (ipykernel)",
   "language": "python",
   "name": "python3"
  },
  "language_info": {
   "codemirror_mode": {
    "name": "ipython",
    "version": 3
   },
   "file_extension": ".py",
   "mimetype": "text/x-python",
   "name": "python",
   "nbconvert_exporter": "python",
   "pygments_lexer": "ipython3",
   "version": "3.10.6"
  }
 },
 "nbformat": 4,
 "nbformat_minor": 5
}
