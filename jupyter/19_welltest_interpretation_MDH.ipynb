{
 "cells": [
  {
   "cell_type": "markdown",
   "id": "isolated-occupation",
   "metadata": {},
   "source": [
    "# Пример построения приложения для интерпретации теста на падение давления (drawdown test)\n",
    "\n",
    "Материалы курсов \"Исследования скважин и пластов\" и \"Гидродинамические исследования скважин\" в РГУ нефти и газа имени И.М.Губкина.\n",
    "\n",
    "Хабибуллин Ринат 2021 г.\n",
    "\n",
    "версия 0.2 от 12.11.2021\n",
    "\n",
    "---\n"
   ]
  },
  {
   "cell_type": "code",
   "execution_count": 1,
   "id": "tested-primary",
   "metadata": {
    "scrolled": true
   },
   "outputs": [
    {
     "name": "stdout",
     "output_type": "stream",
     "text": [
      "Requirement already satisfied: jupyter-dash in c:\\venv\\base\\lib\\site-packages (0.4.0)\n",
      "Requirement already satisfied: ipykernel in c:\\venv\\base\\lib\\site-packages (from jupyter-dash) (5.5.0)\n",
      "Requirement already satisfied: ipython in c:\\venv\\base\\lib\\site-packages (from jupyter-dash) (7.21.0)\n",
      "Requirement already satisfied: dash in c:\\venv\\base\\lib\\site-packages (from jupyter-dash) (2.0.0)\n",
      "Requirement already satisfied: retrying in c:\\venv\\base\\lib\\site-packages (from jupyter-dash) (1.3.3)\n",
      "Requirement already satisfied: ansi2html in c:\\venv\\base\\lib\\site-packages (from jupyter-dash) (1.6.0)\n",
      "Requirement already satisfied: requests in c:\\venv\\base\\lib\\site-packages (from jupyter-dash) (2.25.1)\n",
      "Requirement already satisfied: flask in c:\\venv\\base\\lib\\site-packages (from jupyter-dash) (2.0.1)\n",
      "Requirement already satisfied: dash-html-components==2.0.0 in c:\\venv\\base\\lib\\site-packages (from dash->jupyter-dash) (2.0.0)\n",
      "Requirement already satisfied: dash-table==5.0.0 in c:\\venv\\base\\lib\\site-packages (from dash->jupyter-dash) (5.0.0)\n",
      "Requirement already satisfied: plotly>=5.0.0 in c:\\venv\\base\\lib\\site-packages (from dash->jupyter-dash) (5.3.1)\n",
      "Requirement already satisfied: dash-core-components==2.0.0 in c:\\venv\\base\\lib\\site-packages (from dash->jupyter-dash) (2.0.0)\n",
      "Requirement already satisfied: flask-compress in c:\\venv\\base\\lib\\site-packages (from dash->jupyter-dash) (1.10.1)\n",
      "Requirement already satisfied: itsdangerous>=2.0 in c:\\venv\\base\\lib\\site-packages (from flask->jupyter-dash) (2.0.1)\n",
      "Requirement already satisfied: Werkzeug>=2.0 in c:\\venv\\base\\lib\\site-packages (from flask->jupyter-dash) (2.0.1)\n",
      "Requirement already satisfied: Jinja2>=3.0 in c:\\venv\\base\\lib\\site-packages (from flask->jupyter-dash) (3.0.1)\n",
      "Requirement already satisfied: click>=7.1.2 in c:\\venv\\base\\lib\\site-packages (from flask->jupyter-dash) (8.0.1)\n",
      "Requirement already satisfied: tornado>=4.2 in c:\\venv\\base\\lib\\site-packages (from ipykernel->jupyter-dash) (6.1)\n",
      "Requirement already satisfied: traitlets>=4.1.0 in c:\\venv\\base\\lib\\site-packages (from ipykernel->jupyter-dash) (5.0.5)\n",
      "Requirement already satisfied: jupyter-client in c:\\venv\\base\\lib\\site-packages (from ipykernel->jupyter-dash) (6.1.11)\n",
      "Requirement already satisfied: backcall in c:\\venv\\base\\lib\\site-packages (from ipython->jupyter-dash) (0.2.0)\n",
      "Requirement already satisfied: decorator in c:\\venv\\base\\lib\\site-packages (from ipython->jupyter-dash) (4.4.2)\n",
      "Requirement already satisfied: setuptools>=18.5 in c:\\venv\\base\\lib\\site-packages (from ipython->jupyter-dash) (49.2.1)\n",
      "Requirement already satisfied: jedi>=0.16 in c:\\venv\\base\\lib\\site-packages (from ipython->jupyter-dash) (0.18.0)\n",
      "Requirement already satisfied: pickleshare in c:\\venv\\base\\lib\\site-packages (from ipython->jupyter-dash) (0.7.5)\n",
      "Requirement already satisfied: colorama in c:\\venv\\base\\lib\\site-packages (from ipython->jupyter-dash) (0.4.4)\n",
      "Requirement already satisfied: pygments in c:\\venv\\base\\lib\\site-packages (from ipython->jupyter-dash) (2.8.1)\n",
      "Requirement already satisfied: prompt-toolkit!=3.0.0,!=3.0.1,<3.1.0,>=2.0.0 in c:\\venv\\base\\lib\\site-packages (from ipython->jupyter-dash) (3.0.16)\n",
      "Requirement already satisfied: urllib3<1.27,>=1.21.1 in c:\\venv\\base\\lib\\site-packages (from requests->jupyter-dash) (1.26.3)\n",
      "Requirement already satisfied: certifi>=2017.4.17 in c:\\venv\\base\\lib\\site-packages (from requests->jupyter-dash) (2020.12.5)\n",
      "Requirement already satisfied: idna<3,>=2.5 in c:\\venv\\base\\lib\\site-packages (from requests->jupyter-dash) (2.10)\n",
      "Requirement already satisfied: chardet<5,>=3.0.2 in c:\\venv\\base\\lib\\site-packages (from requests->jupyter-dash) (4.0.0)\n",
      "Requirement already satisfied: six>=1.7.0 in c:\\venv\\base\\lib\\site-packages (from retrying->jupyter-dash) (1.15.0)\n",
      "Requirement already satisfied: parso<0.9.0,>=0.8.0 in c:\\venv\\base\\lib\\site-packages (from jedi>=0.16->ipython->jupyter-dash) (0.8.1)\n",
      "Requirement already satisfied: MarkupSafe>=2.0 in c:\\venv\\base\\lib\\site-packages (from Jinja2>=3.0->flask->jupyter-dash) (2.0.1)\n",
      "Requirement already satisfied: tenacity>=6.2.0 in c:\\venv\\base\\lib\\site-packages (from plotly>=5.0.0->dash->jupyter-dash) (8.0.1)\n",
      "Requirement already satisfied: wcwidth in c:\\venv\\base\\lib\\site-packages (from prompt-toolkit!=3.0.0,!=3.0.1,<3.1.0,>=2.0.0->ipython->jupyter-dash) (0.2.5)\n",
      "Requirement already satisfied: ipython-genutils in c:\\venv\\base\\lib\\site-packages (from traitlets>=4.1.0->ipykernel->jupyter-dash) (0.2.0)\n",
      "Requirement already satisfied: brotli in c:\\venv\\base\\lib\\site-packages (from flask-compress->dash->jupyter-dash) (1.0.9)\n",
      "Requirement already satisfied: pyzmq>=13 in c:\\venv\\base\\lib\\site-packages (from jupyter-client->ipykernel->jupyter-dash) (22.0.3)\n",
      "Requirement already satisfied: jupyter-core>=4.6.0 in c:\\venv\\base\\lib\\site-packages (from jupyter-client->ipykernel->jupyter-dash) (4.7.1)\n",
      "Requirement already satisfied: python-dateutil>=2.1 in c:\\venv\\base\\lib\\site-packages (from jupyter-client->ipykernel->jupyter-dash) (2.8.1)\n",
      "Requirement already satisfied: pywin32>=1.0 in c:\\venv\\base\\lib\\site-packages (from jupyter-core>=4.6.0->jupyter-client->ipykernel->jupyter-dash) (300)\n"
     ]
    }
   ],
   "source": [
    "# в google colab это надо выполнить, чтобы дальше все хорошо сработало\n",
    "!pip install jupyter-dash\n",
    "\n",
    "# без колаба не обязательно, если библиотека у вас уже установлена"
   ]
  },
  {
   "cell_type": "code",
   "execution_count": 2,
   "id": "f985c5cb-da29-4228-aa8d-0cadd268e500",
   "metadata": {},
   "outputs": [
    {
     "name": "stdout",
     "output_type": "stream",
     "text": [
      "Collecting welltest\n",
      "  Downloading welltest-0.5-py3-none-any.whl (5.6 kB)\n",
      "Requirement already satisfied: numpy in /home/rnt/welltests/venv_welltest/lib/python3.11/site-packages (from welltest) (1.26.0)\n",
      "Requirement already satisfied: scipy in /home/rnt/welltests/venv_welltest/lib/python3.11/site-packages (from welltest) (1.11.2)\n",
      "Installing collected packages: welltest\n",
      "Successfully installed welltest-0.5\n"
     ]
    }
   ],
   "source": [
    "!pip install welltest"
   ]
  },
  {
   "cell_type": "code",
   "execution_count": 2,
   "id": "rental-beginning",
   "metadata": {},
   "outputs": [],
   "source": [
    "import plotly.express as px\n",
    "import plotly.graph_objects as go\n",
    "\n",
    "from jupyter_dash import JupyterDash\n",
    "from dash import dcc\n",
    "from dash import html\n",
    "from dash.dependencies import Input, Output\n",
    "\n",
    "import pandas as pd\n",
    "import numpy as np\n",
    "import scipy.special as sc\n",
    "\n",
    "from welltest.functions import *"
   ]
  },
  {
   "cell_type": "code",
   "execution_count": 4,
   "id": "stock-elephant",
   "metadata": {},
   "outputs": [],
   "source": [
    "# Решение линейного стока уравнения фильтрации\n",
    "def pd_ei(td, rd=1):\n",
    "  return -1/2*sc.expi(-rd**2 / 4 / td)\n",
    "\n",
    "def p_ei_atma(t_hr):\n",
    "    \"\"\"\n",
    "    расчет забойного давления скважины\n",
    "    \"\"\"\n",
    "    td = td_from_t(t_hr)\n",
    "    return p_from_pd_atma(pd_ei(td))"
   ]
  },
  {
   "cell_type": "markdown",
   "id": "resident-marble",
   "metadata": {},
   "source": [
    "Для интерпретации надо загрузить данные.\n",
    "\n",
    "Для того, чтобы загрузка данных гладко работала на колабе - загрузим их из интернета - непосредственно из репозитория где храняться примеры."
   ]
  },
  {
   "cell_type": "code",
   "execution_count": 7,
   "id": "cognitive-escape",
   "metadata": {},
   "outputs": [],
   "source": [
    "# загрузим файл с тестовыми данными из интернета\n",
    "# из публичной ссылки с нашего репозитория github\n",
    "url = 'https://github.com/khabibullinra/welltest_examples/raw/master/data/drawdown_test_1/'\n",
    "file_rate = \"rates.txt\"\n",
    "file_pressure = \"pressure.txt\"\n",
    "\n",
    "dfpres = pd.read_csv(url+file_pressure, header=1, sep=' ', skipinitialspace= True)\n",
    "dfpres.columns = ['time', 'pressure', 'n']\n",
    "#dfpres = dfpres.drop('n',1)"
   ]
  },
  {
   "cell_type": "code",
   "execution_count": 8,
   "id": "sacred-bermuda",
   "metadata": {},
   "outputs": [
    {
     "data": {
      "text/html": [
       "<div>\n",
       "<style scoped>\n",
       "    .dataframe tbody tr th:only-of-type {\n",
       "        vertical-align: middle;\n",
       "    }\n",
       "\n",
       "    .dataframe tbody tr th {\n",
       "        vertical-align: top;\n",
       "    }\n",
       "\n",
       "    .dataframe thead th {\n",
       "        text-align: right;\n",
       "    }\n",
       "</style>\n",
       "<table border=\"1\" class=\"dataframe\">\n",
       "  <thead>\n",
       "    <tr style=\"text-align: right;\">\n",
       "      <th></th>\n",
       "      <th>time</th>\n",
       "      <th>pressure</th>\n",
       "      <th>n</th>\n",
       "    </tr>\n",
       "  </thead>\n",
       "  <tbody>\n",
       "    <tr>\n",
       "      <th>0</th>\n",
       "      <td>0.0000</td>\n",
       "      <td>250.000</td>\n",
       "      <td>NaN</td>\n",
       "    </tr>\n",
       "    <tr>\n",
       "      <th>1</th>\n",
       "      <td>0.0012</td>\n",
       "      <td>249.952</td>\n",
       "      <td>NaN</td>\n",
       "    </tr>\n",
       "    <tr>\n",
       "      <th>2</th>\n",
       "      <td>0.0024</td>\n",
       "      <td>249.904</td>\n",
       "      <td>NaN</td>\n",
       "    </tr>\n",
       "    <tr>\n",
       "      <th>3</th>\n",
       "      <td>0.0036</td>\n",
       "      <td>249.856</td>\n",
       "      <td>NaN</td>\n",
       "    </tr>\n",
       "    <tr>\n",
       "      <th>4</th>\n",
       "      <td>0.0048</td>\n",
       "      <td>249.808</td>\n",
       "      <td>NaN</td>\n",
       "    </tr>\n",
       "    <tr>\n",
       "      <th>...</th>\n",
       "      <td>...</td>\n",
       "      <td>...</td>\n",
       "      <td>...</td>\n",
       "    </tr>\n",
       "    <tr>\n",
       "      <th>250</th>\n",
       "      <td>117.6130</td>\n",
       "      <td>178.672</td>\n",
       "      <td>NaN</td>\n",
       "    </tr>\n",
       "    <tr>\n",
       "      <th>251</th>\n",
       "      <td>118.2130</td>\n",
       "      <td>178.660</td>\n",
       "      <td>NaN</td>\n",
       "    </tr>\n",
       "    <tr>\n",
       "      <th>252</th>\n",
       "      <td>118.8130</td>\n",
       "      <td>178.647</td>\n",
       "      <td>NaN</td>\n",
       "    </tr>\n",
       "    <tr>\n",
       "      <th>253</th>\n",
       "      <td>119.4130</td>\n",
       "      <td>178.635</td>\n",
       "      <td>NaN</td>\n",
       "    </tr>\n",
       "    <tr>\n",
       "      <th>254</th>\n",
       "      <td>120.0000</td>\n",
       "      <td>178.623</td>\n",
       "      <td>NaN</td>\n",
       "    </tr>\n",
       "  </tbody>\n",
       "</table>\n",
       "<p>255 rows × 3 columns</p>\n",
       "</div>"
      ],
      "text/plain": [
       "         time  pressure   n\n",
       "0      0.0000   250.000 NaN\n",
       "1      0.0012   249.952 NaN\n",
       "2      0.0024   249.904 NaN\n",
       "3      0.0036   249.856 NaN\n",
       "4      0.0048   249.808 NaN\n",
       "..        ...       ...  ..\n",
       "250  117.6130   178.672 NaN\n",
       "251  118.2130   178.660 NaN\n",
       "252  118.8130   178.647 NaN\n",
       "253  119.4130   178.635 NaN\n",
       "254  120.0000   178.623 NaN\n",
       "\n",
       "[255 rows x 3 columns]"
      ]
     },
     "execution_count": 8,
     "metadata": {},
     "output_type": "execute_result"
    }
   ],
   "source": [
    "dfpres"
   ]
  },
  {
   "cell_type": "code",
   "execution_count": 9,
   "id": "secondary-heating",
   "metadata": {},
   "outputs": [],
   "source": [
    "df = pd.DataFrame(columns = ['t', 'p'])\n",
    "df.t = [1,10]\n",
    "df.p = [250, 230]"
   ]
  },
  {
   "cell_type": "code",
   "execution_count": 8,
   "id": "white-logic",
   "metadata": {},
   "outputs": [
    {
     "name": "stderr",
     "output_type": "stream",
     "text": [
      "/home/rnt/welltests/venv_welltest/lib/python3.11/site-packages/dash/dash.py:538: UserWarning:\n",
      "\n",
      "JupyterDash is deprecated, use Dash instead.\n",
      "See https://dash.plotly.com/dash-in-jupyter for more details.\n",
      "\n"
     ]
    },
    {
     "data": {
      "text/html": [
       "\n",
       "        <iframe\n",
       "            width=\"100%\"\n",
       "            height=\"650\"\n",
       "            src=\"http://127.0.0.1:8050/\"\n",
       "            frameborder=\"0\"\n",
       "            allowfullscreen\n",
       "            \n",
       "        ></iframe>\n",
       "        "
      ],
      "text/plain": [
       "<IPython.lib.display.IFrame at 0x7f0538a0bcd0>"
      ]
     },
     "metadata": {},
     "output_type": "display_data"
    },
    {
     "data": {
      "text/html": [
       "\n",
       "        <iframe\n",
       "            width=\"100%\"\n",
       "            height=\"650\"\n",
       "            src=\"http://127.0.0.1:8050/\"\n",
       "            frameborder=\"0\"\n",
       "            allowfullscreen\n",
       "            \n",
       "        ></iframe>\n",
       "        "
      ],
      "text/plain": [
       "<IPython.lib.display.IFrame at 0x7f04ce3bbd50>"
      ]
     },
     "metadata": {},
     "output_type": "display_data"
    },
    {
     "name": "stderr",
     "output_type": "stream",
     "text": [
      "/home/rnt/welltests/venv_welltest/lib/python3.11/site-packages/plotly/graph_objs/_deprecations.py:378: DeprecationWarning:\n",
      "\n",
      "plotly.graph_objs.Line is deprecated.\n",
      "Please replace it with one of the following more specific types\n",
      "  - plotly.graph_objs.scatter.Line\n",
      "  - plotly.graph_objs.layout.shape.Line\n",
      "  - etc.\n",
      "\n",
      "\n",
      "/home/rnt/welltests/venv_welltest/lib/python3.11/site-packages/plotly/graph_objs/_deprecations.py:378: DeprecationWarning:\n",
      "\n",
      "plotly.graph_objs.Line is deprecated.\n",
      "Please replace it with one of the following more specific types\n",
      "  - plotly.graph_objs.scatter.Line\n",
      "  - plotly.graph_objs.layout.shape.Line\n",
      "  - etc.\n",
      "\n",
      "\n",
      "/home/rnt/welltests/venv_welltest/lib/python3.11/site-packages/plotly/graph_objs/_deprecations.py:378: DeprecationWarning:\n",
      "\n",
      "plotly.graph_objs.Line is deprecated.\n",
      "Please replace it with one of the following more specific types\n",
      "  - plotly.graph_objs.scatter.Line\n",
      "  - plotly.graph_objs.layout.shape.Line\n",
      "  - etc.\n",
      "\n",
      "\n",
      "/home/rnt/welltests/venv_welltest/lib/python3.11/site-packages/plotly/graph_objs/_deprecations.py:378: DeprecationWarning:\n",
      "\n",
      "plotly.graph_objs.Line is deprecated.\n",
      "Please replace it with one of the following more specific types\n",
      "  - plotly.graph_objs.scatter.Line\n",
      "  - plotly.graph_objs.layout.shape.Line\n",
      "  - etc.\n",
      "\n",
      "\n",
      "/home/rnt/welltests/venv_welltest/lib/python3.11/site-packages/plotly/graph_objs/_deprecations.py:378: DeprecationWarning:\n",
      "\n",
      "plotly.graph_objs.Line is deprecated.\n",
      "Please replace it with one of the following more specific types\n",
      "  - plotly.graph_objs.scatter.Line\n",
      "  - plotly.graph_objs.layout.shape.Line\n",
      "  - etc.\n",
      "\n",
      "\n"
     ]
    }
   ],
   "source": [
    "h=10\n",
    "app = JupyterDash(__name__)\n",
    "app.layout = html.Div([\n",
    "    html.H1(\"JupyterDash Demo test 3\"),\n",
    "    dcc.Graph(id='graph'),\n",
    "    html.Label(id = 'label', \n",
    "               children= [\n",
    "        \"h = {}\".format(h),\n",
    "        dcc.Slider(\n",
    "            id='my-slider',\n",
    "            min=1,\n",
    "            max=100,\n",
    "            step=1,\n",
    "            value=10,\n",
    "            )\n",
    "    ]),\n",
    "    \n",
    "    dcc.Checklist(\n",
    "        id='my-check',\n",
    "        options=[\n",
    "            {'label': 'semi log', 'value': 'semilog'}\n",
    "        ],\n",
    "            value=['semi log', 'semilog']\n",
    "        )\n",
    "])\n",
    "# Define callback to update graph\n",
    "@app.callback(\n",
    "    Output('graph', 'figure'),\n",
    "    Input(\"my-slider\", \"value\"),\n",
    "    Input(\"my-check\", \"value\"),\n",
    "    \n",
    ")\n",
    "def update_figure(m, log):\n",
    "    h=m\n",
    "    fig = go.Figure()\n",
    "    fig.add_trace(\n",
    "        go.Line(x=dfpres.time, y=dfpres.pressure)\n",
    "    )\n",
    "    fig.add_trace(\n",
    "        go.Line(x=df.t, y=df.p-m)\n",
    "    )\n",
    "    fig.update_layout(xaxis_type=\"log\")\n",
    "    return fig\n",
    "\n",
    "# Run app and display result inline in the notebook\n",
    "app.run_server(mode='inline')"
   ]
  },
  {
   "cell_type": "markdown",
   "id": "professional-breathing",
   "metadata": {},
   "source": [
    "## Загрузка данных исследований"
   ]
  },
  {
   "cell_type": "code",
   "execution_count": 5,
   "id": "tracked-apartment",
   "metadata": {},
   "outputs": [],
   "source": [
    "import pandas as pd\n",
    "import matplotlib.pyplot as plt\n",
    "import numpy as np\n"
   ]
  },
  {
   "cell_type": "code",
   "execution_count": 6,
   "id": "shaped-grill",
   "metadata": {},
   "outputs": [],
   "source": [
    "path = 'C:\\\\rnt\\\\welltest_data\\\\'\n",
    "file_rate = \"rates.txt\"\n",
    "file_pressure = \"pressure.txt\""
   ]
  },
  {
   "cell_type": "code",
   "execution_count": 7,
   "id": "generic-insurance",
   "metadata": {},
   "outputs": [],
   "source": [
    "dfpres = pd.read_csv(path+file_pressure, header=1, sep=' ', skipinitialspace= True)\n",
    "dfpres.columns = ['time', 'pressure', 'n']\n",
    "dfpres = dfpres.drop('n',1)"
   ]
  },
  {
   "cell_type": "code",
   "execution_count": 8,
   "id": "presidential-living",
   "metadata": {},
   "outputs": [
    {
     "data": {
      "text/plain": [
       "<AxesSubplot:>"
      ]
     },
     "execution_count": 8,
     "metadata": {},
     "output_type": "execute_result"
    },
    {
     "data": {
      "image/png": "[encoded data removed]",
      "text/plain": [
       "<Figure size 432x288 with 1 Axes>"
      ]
     },
     "metadata": {
      "needs_background": "light"
     },
     "output_type": "display_data"
    }
   ],
   "source": [
    "dfpres.plot()"
   ]
  },
  {
   "cell_type": "code",
   "execution_count": 9,
   "id": "activated-hayes",
   "metadata": {},
   "outputs": [
    {
     "data": {
      "text/plain": [
       "0      250.000\n",
       "1      249.952\n",
       "2      249.904\n",
       "3      249.856\n",
       "4      249.808\n",
       "        ...   \n",
       "250    178.672\n",
       "251    178.660\n",
       "252    178.647\n",
       "253    178.635\n",
       "254    178.623\n",
       "Name: pressure, Length: 255, dtype: float64"
      ]
     },
     "execution_count": 9,
     "metadata": {},
     "output_type": "execute_result"
    }
   ],
   "source": [
    "dfpres.pressure"
   ]
  },
  {
   "cell_type": "code",
   "execution_count": null,
   "id": "herbal-service",
   "metadata": {},
   "outputs": [],
   "source": [
    "S=10\n",
    "k=18\n",
    "Pi=270\n",
    "mu = 2\n",
    "t = np.array(dfpres.time)\n",
    "td = td_from_t(t, k_mD=k, mu_cP=mu)\n",
    "\n",
    "plt.plot(dfpres.time, dfpres.pressure)\n",
    "plt.plot(dfpres.time, p_from_pd_atma( pd_ei(1, td)+S, k_mD=k, pi_atma=Pi, mu_cP=mu)) \n",
    "plt.xscale('log')\n",
    "plt.show()"
   ]
  },
  {
   "cell_type": "code",
   "execution_count": null,
   "id": "structured-matrix",
   "metadata": {},
   "outputs": [],
   "source": [
    "t = np.array(dfpres.time)\n",
    "p = pd_ei(1,t)"
   ]
  },
  {
   "cell_type": "code",
   "execution_count": null,
   "id": "theoretical-diversity",
   "metadata": {},
   "outputs": [],
   "source": []
  }
 ],
 "metadata": {
  "kernelspec": {
   "display_name": "Python 3 (ipykernel)",
   "language": "python",
   "name": "python3"
  },
  "language_info": {
   "codemirror_mode": {
    "name": "ipython",
    "version": 3
   },
   "file_extension": ".py",
   "mimetype": "text/x-python",
   "name": "python",
   "nbconvert_exporter": "python",
   "pygments_lexer": "ipython3",
   "version": "3.11.4"
  }
 },
 "nbformat": 4,
 "nbformat_minor": 5
}
