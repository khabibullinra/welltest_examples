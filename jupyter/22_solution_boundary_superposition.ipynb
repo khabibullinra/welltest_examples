{
 "cells": [
  {
   "cell_type": "markdown",
   "id": "91c5d040",
   "metadata": {},
   "source": [
    "Строим решение с границами и суперпозицией"
   ]
  },
  {
   "cell_type": "code",
   "execution_count": 1,
   "id": "3830aba3",
   "metadata": {},
   "outputs": [],
   "source": [
    "# импортируем библиотки, которые могут пригодиться для проведения расчетов\n",
    "import numpy as np\n",
    "import matplotlib.pyplot as plt\n",
    "from anaflow import get_lap_inv\n",
    "from scipy.special import kn, iv, expi\n",
    "\n",
    "import welltest.functions as wf"
   ]
  },
  {
   "cell_type": "code",
   "execution_count": 2,
   "id": "f7bb2bfe",
   "metadata": {},
   "outputs": [],
   "source": [
    "# Решение линейного стока уравнения фильтрации\n",
    "def pd_ei(td, rd=1):\n",
    "    \"\"\"\n",
    "    Решение линейного стока уравнения фильтрации\n",
    "    rd - безразмерное расстояние\n",
    "    td - безразмерное время\n",
    "    \"\"\"\n",
    "    # при расчете убедимся, что td=0 не повлияет на расчет, даже если td массив и нулевой только один элемент\n",
    "    td = np.array(td, dtype = float)\n",
    "    return np.multiply(-0.5, \n",
    "                       expi(np.divide(-rd**2 / 4 , \n",
    "                                      td, \n",
    "                                      out=np.zeros_like(td), where=td!=0)), \n",
    "                       out=np.zeros_like(td), where=td!=0)\n",
    "\n",
    "\n",
    "# функция расчета безразмерного давления с использованием алгоритма Стефеста\n",
    "# для численного обратного преобразования Лапласа\n",
    "def pd_lapl_circle_closed(u, rd=1, r_ed=1000):\n",
    "    \"\"\"\n",
    "    расчет решения в пространстве Лапласа для замкнутой круговой границы\n",
    "    u -  переменная пространства Лапласа\n",
    "    r_ed - безразмерный радиус контура\n",
    "    \"\"\"\n",
    "    sqrtu = u ** 0.5\n",
    "    r_ed_sqrtu = r_ed * sqrtu\n",
    "    \n",
    "    pd = (( kn(0, sqrtu) / (u*sqrtu*kn(1,sqrtu)) ) /\n",
    "         (1 - kn(1, r_ed_sqrtu) / iv(1, r_ed_sqrtu) * iv(1, sqrtu)/kn(1, sqrtu) ) - \n",
    "         ( iv(0, sqrtu) / (u*sqrtu*iv(1,sqrtu)) ) /\n",
    "         (1 - iv(1, r_ed_sqrtu) / kn(1, r_ed_sqrtu) * kn(1, sqrtu)/iv(1, sqrtu) ))\n",
    "    return pd\n",
    "\n",
    "# пример функции реализующий расчет решения в пространстве Лапласа\n",
    "def pd_lapl_finite_rw(u, rd=1):\n",
    "    \"\"\"\n",
    "    расчет решения c конечным радиусом скважины для безразмерного давления в пространстве Лапласа\n",
    "    u - переменная пространства Лапласа\n",
    "    rd- безразмерное расстояние от центра скважины\n",
    "    \"\"\"\n",
    "    return 1 / u**(3/2) * kn(0, rd * u**0.5) / kn(1, u**0.5)"
   ]
  },
  {
   "cell_type": "code",
   "execution_count": 18,
   "id": "89c036e7",
   "metadata": {},
   "outputs": [],
   "source": [
    "# решение линейного стока в пространстве Лапласа\n",
    "def pd_lapl_wbs(pd_lapl, S=0, Cd=0):\n",
    "    def pdl(u, rd=1, S=S, Cd=Cd, **kwargs):\n",
    "        return 1 / u * (S + u * pd_lapl(u, rd=rd, **kwargs)) / (1 + u * Cd * (S + u * pd_lapl(u, rd=rd, **kwargs)))\n",
    "    return pdl"
   ]
  },
  {
   "cell_type": "code",
   "execution_count": 19,
   "id": "a507a8a7",
   "metadata": {},
   "outputs": [],
   "source": [
    "# построим функцию инвертирующую решение в пространстве Лапласа\n",
    "\n",
    "# функция расчета безразмерного давления с использованием алгоритма Стефеста\n",
    "# для численного обратного преобразования Лапласа\n",
    "def pd_inv(pd_lapl, td, rd, **kwargs):\n",
    "     \n",
    "    pd_inv_ = get_lap_inv(pd_lapl, rd=rd, **kwargs)\n",
    "    return pd_inv_(td)"
   ]
  },
  {
   "cell_type": "code",
   "execution_count": 30,
   "id": "6707a957",
   "metadata": {},
   "outputs": [],
   "source": [
    "def pd_circle_closed(td, rd=1, r_ed=1000, S=0, Cd=0):\n",
    "    td1 = np.where(td<1e-3, 1e-3,td)\n",
    "    return pd_inv(pd_lapl_wbs(pd_lapl_circle_closed),td=td1, rd=1, S=S, Cd=Cd, r_ed=r_ed)\n",
    "\n",
    "pd_circle_closed_vector = np.vectorize(pd_circle_closed)"
   ]
  },
  {
   "cell_type": "code",
   "execution_count": 31,
   "id": "24d36606",
   "metadata": {},
   "outputs": [],
   "source": [
    "def pd_superposition(td, td_hist, qd_hist, **kwargs):\n",
    "    \"\"\"\n",
    "    расчет безразмерного давления для последовательности безразмерных дебитов\n",
    "    td -  время расчета после запуска, безразмерное\n",
    "    td_hist - массив времен изменения режимов работы скважин, безразмерное\n",
    "    qd_hist - массив дебитов установленных после изменения режима работы, безразмерное\n",
    "    \"\"\"\n",
    "    # принудительно добавим нули во входные массивы, чтобы учесть запуск скважины\n",
    "    qdh = np.hstack([0, qd_hist])\n",
    "    tdh = np.hstack([0, td_hist])\n",
    "    # построим дебиты виртуальных скважин - разности реальных дебитов при переключении\n",
    "    delta_qd = np.hstack([0, np.diff(qdh)])\n",
    "    # референсный безразмерный дебит это 1\n",
    "    \n",
    "    # векторная магия - время может быть вектором и переключения дебитов тоже вектор\n",
    "    # надо организовать сумму по временам, каждая из котороых сумма по переключениям\n",
    "    # делаем при помощи расчета meshgrid и поиска накопленных сумм\n",
    "    qd_v, td_v =np.meshgrid(delta_qd, td)\n",
    "    # используем куммулятивную сумму numpy для того что суммировать результаты\n",
    "    dpd = np.cumsum(qd_v * pd_circle_closed_vector((td_v - tdh), **kwargs) * np.heaviside((td_v - tdh), 1),1 )\n",
    "    # последний столбец - полная сумма, которая нужна в качестве результата\n",
    "    return dpd[:,-1]\n",
    "\n",
    "def q_superposition(t, t_hist, q_hist):\n",
    "    \"\"\"\n",
    "    расчет давления для запуска и последующей остановки скважины\n",
    "    t_hr - время после запуска в часах\n",
    "    t_hist_hr - массив времен изменения режимов работы скважин\n",
    "    q_hist_sm3day - массив дебитов установленных после изменения режима работы\n",
    "    \"\"\"\n",
    "    def interpolate_constant(x, xp, yp):\n",
    "        indices = np.searchsorted(xp, x, side='right')\n",
    "        y = np.concatenate(([0], yp))\n",
    "        return y[indices]\n",
    "\n",
    "    q=[]\n",
    "    for ti in t:\n",
    "        q.append(interpolate_constant(ti, t_hist, q_hist))\n",
    "    return q"
   ]
  },
  {
   "cell_type": "code",
   "execution_count": 33,
   "id": "8de37e22",
   "metadata": {},
   "outputs": [
    {
     "data": {
      "image/png": "[encoded data removed]",
      "text/plain": [
       "<Figure size 1200x500 with 2 Axes>"
      ]
     },
     "metadata": {},
     "output_type": "display_data"
    }
   ],
   "source": [
    "td_arr = np.linspace(1e-3, 9e4, 1000)\n",
    "\n",
    "\n",
    "td_history = np.array([ 0., 2e4, 5e4 ], dtype=np.float64) \n",
    "qd_history = np.array([10., 0., 10.], dtype=np.float64)\n",
    "\n",
    "plt.rcParams[\"figure.figsize\"] = (12,5)\n",
    "fig, (ax1, ax2) = plt.subplots(2,1)\n",
    "\n",
    "ax1.plot(td_arr, q_superposition(td_arr, td_history, qd_history)) \n",
    "ax2.plot(td_arr, pd_superposition(td_arr, td_history, qd_history, r_ed=100), color='red') \n",
    "ax2.set_xlabel('td')\n",
    "ax1.set_ylabel('qd')\n",
    "ax2.set_ylabel('pd')\n",
    "plt.show()"
   ]
  },
  {
   "cell_type": "code",
   "execution_count": null,
   "id": "93bee75b",
   "metadata": {},
   "outputs": [],
   "source": []
  }
 ],
 "metadata": {
  "kernelspec": {
   "display_name": "Python 3 (ipykernel)",
   "language": "python",
   "name": "python3"
  },
  "language_info": {
   "codemirror_mode": {
    "name": "ipython",
    "version": 3
   },
   "file_extension": ".py",
   "mimetype": "text/x-python",
   "name": "python",
   "nbconvert_exporter": "python",
   "pygments_lexer": "ipython3",
   "version": "3.10.6"
  }
 },
 "nbformat": 4,
 "nbformat_minor": 5
}
