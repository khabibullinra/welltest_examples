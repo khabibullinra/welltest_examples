{
 "cells": [
  {
   "cell_type": "markdown",
   "id": "isolated-occupation",
   "metadata": {},
   "source": [
    "# Пример построения интерактивного графика с использованием библиотеки plotly.express и jupyter_dash\n",
    "\n",
    "Материалы курсов \"Исследования скважин и пластов\" и \"Гидродинамические исследования скважин\" в РГУ нефти и газа имени И.М.Губкина.\n",
    "\n",
    "\n",
    "версия 0.3 от 20.10.2023"
   ]
  },
  {
   "cell_type": "markdown",
   "id": "agricultural-former",
   "metadata": {},
   "source": [
    "Для построения интерактивных графиков и простых веб приложений может оказаться удобным использовать библиотеку `dash`, которая позволяет делать все прямо в тетрадке jupyter или в колабе\n",
    "\n",
    "Для установки библиотеки надо вызвать в терминале команду\n",
    "`pip install dash`\n",
    "\n",
    "В колабе это можно сделать выполнив команду \n",
    "`!pip install dash` в ячейке тетрадки"
   ]
  },
  {
   "cell_type": "code",
   "execution_count": 2,
   "id": "rental-beginning",
   "metadata": {},
   "outputs": [],
   "source": [
    "from dash import Dash, html, dcc, callback, Output, Input\n",
    "import plotly.express as px\n",
    "import pandas as pd\n",
    "\n",
    "import pandas as pd\n",
    "import numpy as np\n",
    "import scipy.special as sc"
   ]
  },
  {
   "cell_type": "code",
   "execution_count": 3,
   "id": "stock-elephant",
   "metadata": {},
   "outputs": [],
   "source": [
    "# Решение линейного стока уравнения фильтрации\n",
    "def pd_ei(rd, td):\n",
    "  return -1/2*sc.expi(-rd**2 / 4 / td)"
   ]
  },
  {
   "cell_type": "code",
   "execution_count": 5,
   "id": "white-logic",
   "metadata": {},
   "outputs": [
    {
     "data": {
      "text/html": [
       "\n",
       "        <iframe\n",
       "            width=\"100%\"\n",
       "            height=\"650\"\n",
       "            src=\"http://127.0.0.1:8050/\"\n",
       "            frameborder=\"0\"\n",
       "            allowfullscreen\n",
       "            \n",
       "        ></iframe>\n",
       "        "
      ],
      "text/plain": [
       "<IPython.lib.display.IFrame at 0x7ec84b485cd0>"
      ]
     },
     "metadata": {},
     "output_type": "display_data"
    }
   ],
   "source": [
    "# готовим датафрейм который будет отображаться\n",
    "df = pd.DataFrame(columns = ['pd', 'td', 'rd'])\n",
    "# готовим массив значений расстояний для которого будут строиться графики\n",
    "df['rd'] = np.logspace(0.1, 4, 100)\n",
    "\n",
    "# создаем интерактивное приложение plotly dash \n",
    "app = Dash(__name__)\n",
    "# описываем внешний вид приложения на основе html разметки\n",
    "app.layout = html.Div([\n",
    "    html.H1(\"JupyterDash Demo test 2\"), # заголовок\n",
    "    dcc.Graph(id='graph'), # зона отображения графика\n",
    "    html.Label([\"td\"]), # надпись под графиком\n",
    "    dcc.Slider(\n",
    "            id='my-slider',\n",
    "            min=2,\n",
    "            max=8,\n",
    "            step=0.1,\n",
    "            value=4,\n",
    "            ),    # слайдер для смены значения времени\n",
    "    dcc.Checklist(\n",
    "        id='my-check',\n",
    "        options=[\n",
    "            {'label': 'semi log', 'value': 'semilog'}\n",
    "        ],\n",
    "            value=['semi log', 'semilog']\n",
    "        )  # переключатель вида оси х\n",
    "])\n",
    "\n",
    "# определим функции отрисовки графика - callback функция\n",
    "# она автоматически будет вызываться dash каждый раз когда надо будет нарисовать график\n",
    "# в декораторе указывает откуда будут браться аргументы функции отрисовки\n",
    "@app.callback(\n",
    "    Output('graph', 'figure'),\n",
    "    Input(\"my-slider\", \"value\"),\n",
    "    Input(\"my-check\", \"value\"),    \n",
    ")\n",
    "def update_figure(td, log):\n",
    "    # функция отрисовки \n",
    "    df['td'] = round(10**td)\n",
    "    df['pd'] = pd_ei(df['rd'], df['td'])\n",
    "    return px.line(\n",
    "        df, x=\"rd\", y=\"pd\", color = \"td\",\n",
    "        title=\"time = \"+str(round(10**td)),\n",
    "        log_x = log==['semi log', 'semilog']\n",
    "    )\n",
    "# Run app and display result inline in the notebook\n",
    "app.run(mode='inline')"
   ]
  }
 ],
 "metadata": {
  "kernelspec": {
   "display_name": "Python 3 (ipykernel)",
   "language": "python",
   "name": "python3"
  },
  "language_info": {
   "name": "python"
  }
 },
 "nbformat": 4,
 "nbformat_minor": 5
}
