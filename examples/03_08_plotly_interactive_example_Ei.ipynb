{
 "cells": [
  {
   "cell_type": "markdown",
   "id": "isolated-occupation",
   "metadata": {},
   "source": [
    "# Пример построения интерактивного графика с использованием библиотеки plotly.express и jupyter_dash\n",
    "\n",
    "Материалы курсов \"Исследования скважин и пластов\" и \"Гидродинамические исследования скважин\" в РГУ нефти и газа имени И.М.Губкина.\n",
    "\n",
    "Хабибуллин Ринат 2021 г.\n",
    "\n",
    "версия 0.2 от 25.09.2021"
   ]
  },
  {
   "cell_type": "markdown",
   "id": "agricultural-former",
   "metadata": {},
   "source": [
    "Для построения интерактивных графиков и простых веб приложений может оказаться удобным использовать библиотеку `jupyter-dash`, которая позволяет делать все прямо в тетрадке jupyter или в колабе\n",
    "\n",
    "Для установки библиотеки надо вызвать в терминале команду\n",
    "`pip install jupyter-dash`\n",
    "\n",
    "В колабе это можно сделать выполнив команду \n",
    "`!pip install jupyter-dash` в ячейке тетрадки"
   ]
  },
  {
   "cell_type": "code",
   "execution_count": 2,
   "id": "tested-primary",
   "metadata": {},
   "outputs": [
    {
     "name": "stdout",
     "output_type": "stream",
     "text": [
      "Collecting jupyter-dash\n",
      "  Downloading jupyter_dash-0.4.2-py3-none-any.whl (23 kB)\n",
      "Collecting dash\n",
      "  Downloading dash-2.14.0-py3-none-any.whl (10.4 MB)\n",
      "\u001b[2K     \u001b[38;2;114;156;31m━━━━━━━━━━━━━━━━━━━━━━━━━━━━━━━━━━━━━━━━\u001b[0m \u001b[32m10.4/10.4 MB\u001b[0m \u001b[31m4.8 MB/s\u001b[0m eta \u001b[36m0:00:00\u001b[0mm eta \u001b[36m0:00:01\u001b[0m0:01\u001b[0m01\u001b[0mm\n",
      "\u001b[?25hRequirement already satisfied: requests in /home/rnt/welltests/venv_welltest/lib/python3.11/site-packages (from jupyter-dash) (2.31.0)\n",
      "Collecting flask\n",
      "  Downloading flask-3.0.0-py3-none-any.whl (99 kB)\n",
      "\u001b[2K     \u001b[38;2;114;156;31m━━━━━━━━━━━━━━━━━━━━━━━━━━━━━━━━━━━━━━━━\u001b[0m \u001b[32m99.7/99.7 kB\u001b[0m \u001b[31m5.8 MB/s\u001b[0m eta \u001b[36m0:00:00\u001b[0m\n",
      "\u001b[?25hCollecting retrying\n",
      "  Downloading retrying-1.3.4-py3-none-any.whl (11 kB)\n",
      "Requirement already satisfied: ipython in /home/rnt/welltests/venv_welltest/lib/python3.11/site-packages (from jupyter-dash) (8.15.0)\n",
      "Requirement already satisfied: ipykernel in /home/rnt/welltests/venv_welltest/lib/python3.11/site-packages (from jupyter-dash) (6.25.2)\n",
      "Collecting ansi2html\n",
      "  Downloading ansi2html-1.8.0-py3-none-any.whl (16 kB)\n",
      "Requirement already satisfied: nest-asyncio in /home/rnt/welltests/venv_welltest/lib/python3.11/site-packages (from jupyter-dash) (1.5.8)\n",
      "Collecting flask\n",
      "  Downloading Flask-2.2.5-py3-none-any.whl (101 kB)\n",
      "\u001b[2K     \u001b[38;2;114;156;31m━━━━━━━━━━━━━━━━━━━━━━━━━━━━━━━━━━━━━━━\u001b[0m \u001b[32m101.8/101.8 kB\u001b[0m \u001b[31m3.7 MB/s\u001b[0m eta \u001b[36m0:00:00\u001b[0m\n",
      "\u001b[?25hCollecting Werkzeug<2.3.0\n",
      "  Downloading Werkzeug-2.2.3-py3-none-any.whl (233 kB)\n",
      "\u001b[2K     \u001b[38;2;114;156;31m━━━━━━━━━━━━━━━━━━━━━━━━━━━━━━━━━━━━━━━\u001b[0m \u001b[32m233.6/233.6 kB\u001b[0m \u001b[31m3.9 MB/s\u001b[0m eta \u001b[36m0:00:00\u001b[0m MB/s\u001b[0m eta \u001b[36m0:00:01\u001b[0m\n",
      "\u001b[?25hRequirement already satisfied: plotly>=5.0.0 in /home/rnt/welltests/venv_welltest/lib/python3.11/site-packages (from dash->jupyter-dash) (5.17.0)\n",
      "Collecting dash-html-components==2.0.0\n",
      "  Downloading dash_html_components-2.0.0-py3-none-any.whl (4.1 kB)\n",
      "Collecting dash-core-components==2.0.0\n",
      "  Downloading dash_core_components-2.0.0-py3-none-any.whl (3.8 kB)\n",
      "Collecting dash-table==5.0.0\n",
      "  Downloading dash_table-5.0.0-py3-none-any.whl (3.9 kB)\n",
      "Collecting typing-extensions>=4.1.1\n",
      "  Downloading typing_extensions-4.8.0-py3-none-any.whl (31 kB)\n",
      "Requirement already satisfied: setuptools in /home/rnt/welltests/venv_welltest/lib/python3.11/site-packages (from dash->jupyter-dash) (66.1.1)\n",
      "Collecting importlib-metadata\n",
      "  Downloading importlib_metadata-6.8.0-py3-none-any.whl (22 kB)\n",
      "Requirement already satisfied: Jinja2>=3.0 in /home/rnt/welltests/venv_welltest/lib/python3.11/site-packages (from flask->jupyter-dash) (3.1.2)\n",
      "Collecting itsdangerous>=2.0\n",
      "  Downloading itsdangerous-2.1.2-py3-none-any.whl (15 kB)\n",
      "Collecting click>=8.0\n",
      "  Downloading click-8.1.7-py3-none-any.whl (97 kB)\n",
      "\u001b[2K     \u001b[38;2;114;156;31m━━━━━━━━━━━━━━━━━━━━━━━━━━━━━━━━━━━━━━━━\u001b[0m \u001b[32m97.9/97.9 kB\u001b[0m \u001b[31m6.3 MB/s\u001b[0m eta \u001b[36m0:00:00\u001b[0m\n",
      "\u001b[?25hRequirement already satisfied: comm>=0.1.1 in /home/rnt/welltests/venv_welltest/lib/python3.11/site-packages (from ipykernel->jupyter-dash) (0.1.4)\n",
      "Requirement already satisfied: debugpy>=1.6.5 in /home/rnt/welltests/venv_welltest/lib/python3.11/site-packages (from ipykernel->jupyter-dash) (1.8.0)\n",
      "Requirement already satisfied: jupyter-client>=6.1.12 in /home/rnt/welltests/venv_welltest/lib/python3.11/site-packages (from ipykernel->jupyter-dash) (8.3.1)\n",
      "Requirement already satisfied: jupyter-core!=5.0.*,>=4.12 in /home/rnt/welltests/venv_welltest/lib/python3.11/site-packages (from ipykernel->jupyter-dash) (5.3.1)\n",
      "Requirement already satisfied: matplotlib-inline>=0.1 in /home/rnt/welltests/venv_welltest/lib/python3.11/site-packages (from ipykernel->jupyter-dash) (0.1.6)\n",
      "Requirement already satisfied: packaging in /home/rnt/welltests/venv_welltest/lib/python3.11/site-packages (from ipykernel->jupyter-dash) (23.1)\n",
      "Requirement already satisfied: psutil in /home/rnt/welltests/venv_welltest/lib/python3.11/site-packages (from ipykernel->jupyter-dash) (5.9.5)\n",
      "Requirement already satisfied: pyzmq>=20 in /home/rnt/welltests/venv_welltest/lib/python3.11/site-packages (from ipykernel->jupyter-dash) (25.1.1)\n",
      "Requirement already satisfied: tornado>=6.1 in /home/rnt/welltests/venv_welltest/lib/python3.11/site-packages (from ipykernel->jupyter-dash) (6.3.3)\n",
      "Requirement already satisfied: traitlets>=5.4.0 in /home/rnt/welltests/venv_welltest/lib/python3.11/site-packages (from ipykernel->jupyter-dash) (5.10.0)\n",
      "Requirement already satisfied: backcall in /home/rnt/welltests/venv_welltest/lib/python3.11/site-packages (from ipython->jupyter-dash) (0.2.0)\n",
      "Requirement already satisfied: decorator in /home/rnt/welltests/venv_welltest/lib/python3.11/site-packages (from ipython->jupyter-dash) (5.1.1)\n",
      "Requirement already satisfied: jedi>=0.16 in /home/rnt/welltests/venv_welltest/lib/python3.11/site-packages (from ipython->jupyter-dash) (0.19.0)\n",
      "Requirement already satisfied: pickleshare in /home/rnt/welltests/venv_welltest/lib/python3.11/site-packages (from ipython->jupyter-dash) (0.7.5)\n",
      "Requirement already satisfied: prompt-toolkit!=3.0.37,<3.1.0,>=3.0.30 in /home/rnt/welltests/venv_welltest/lib/python3.11/site-packages (from ipython->jupyter-dash) (3.0.39)\n",
      "Requirement already satisfied: pygments>=2.4.0 in /home/rnt/welltests/venv_welltest/lib/python3.11/site-packages (from ipython->jupyter-dash) (2.16.1)\n",
      "Requirement already satisfied: stack-data in /home/rnt/welltests/venv_welltest/lib/python3.11/site-packages (from ipython->jupyter-dash) (0.6.2)\n",
      "Requirement already satisfied: pexpect>4.3 in /home/rnt/welltests/venv_welltest/lib/python3.11/site-packages (from ipython->jupyter-dash) (4.8.0)\n",
      "Requirement already satisfied: charset-normalizer<4,>=2 in /home/rnt/welltests/venv_welltest/lib/python3.11/site-packages (from requests->jupyter-dash) (3.2.0)\n",
      "Requirement already satisfied: idna<4,>=2.5 in /home/rnt/welltests/venv_welltest/lib/python3.11/site-packages (from requests->jupyter-dash) (3.4)\n",
      "Requirement already satisfied: urllib3<3,>=1.21.1 in /home/rnt/welltests/venv_welltest/lib/python3.11/site-packages (from requests->jupyter-dash) (2.0.5)\n",
      "Requirement already satisfied: certifi>=2017.4.17 in /home/rnt/welltests/venv_welltest/lib/python3.11/site-packages (from requests->jupyter-dash) (2023.7.22)\n",
      "Requirement already satisfied: six>=1.7.0 in /home/rnt/welltests/venv_welltest/lib/python3.11/site-packages (from retrying->jupyter-dash) (1.16.0)\n",
      "Requirement already satisfied: parso<0.9.0,>=0.8.3 in /home/rnt/welltests/venv_welltest/lib/python3.11/site-packages (from jedi>=0.16->ipython->jupyter-dash) (0.8.3)\n",
      "Requirement already satisfied: MarkupSafe>=2.0 in /home/rnt/welltests/venv_welltest/lib/python3.11/site-packages (from Jinja2>=3.0->flask->jupyter-dash) (2.1.3)\n",
      "Requirement already satisfied: python-dateutil>=2.8.2 in /home/rnt/welltests/venv_welltest/lib/python3.11/site-packages (from jupyter-client>=6.1.12->ipykernel->jupyter-dash) (2.8.2)\n",
      "Requirement already satisfied: platformdirs>=2.5 in /home/rnt/welltests/venv_welltest/lib/python3.11/site-packages (from jupyter-core!=5.0.*,>=4.12->ipykernel->jupyter-dash) (3.10.0)\n",
      "Requirement already satisfied: ptyprocess>=0.5 in /home/rnt/welltests/venv_welltest/lib/python3.11/site-packages (from pexpect>4.3->ipython->jupyter-dash) (0.7.0)\n",
      "Requirement already satisfied: tenacity>=6.2.0 in /home/rnt/welltests/venv_welltest/lib/python3.11/site-packages (from plotly>=5.0.0->dash->jupyter-dash) (8.2.3)\n",
      "Requirement already satisfied: wcwidth in /home/rnt/welltests/venv_welltest/lib/python3.11/site-packages (from prompt-toolkit!=3.0.37,<3.1.0,>=3.0.30->ipython->jupyter-dash) (0.2.6)\n",
      "Collecting zipp>=0.5\n",
      "  Downloading zipp-3.17.0-py3-none-any.whl (7.4 kB)\n",
      "Requirement already satisfied: executing>=1.2.0 in /home/rnt/welltests/venv_welltest/lib/python3.11/site-packages (from stack-data->ipython->jupyter-dash) (1.2.0)\n",
      "Requirement already satisfied: asttokens>=2.1.0 in /home/rnt/welltests/venv_welltest/lib/python3.11/site-packages (from stack-data->ipython->jupyter-dash) (2.4.0)\n",
      "Requirement already satisfied: pure-eval in /home/rnt/welltests/venv_welltest/lib/python3.11/site-packages (from stack-data->ipython->jupyter-dash) (0.2.2)\n",
      "Installing collected packages: dash-table, dash-html-components, dash-core-components, zipp, Werkzeug, typing-extensions, retrying, itsdangerous, click, ansi2html, importlib-metadata, flask, dash, jupyter-dash\n",
      "Successfully installed Werkzeug-2.2.3 ansi2html-1.8.0 click-8.1.7 dash-2.14.0 dash-core-components-2.0.0 dash-html-components-2.0.0 dash-table-5.0.0 flask-2.2.5 importlib-metadata-6.8.0 itsdangerous-2.1.2 jupyter-dash-0.4.2 retrying-1.3.4 typing-extensions-4.8.0 zipp-3.17.0\n"
     ]
    }
   ],
   "source": [
    "# в google colab это надо выполнить, чтобы дальше все хорошо сработало\n",
    "!pip install jupyter-dash\n",
    "\n",
    "# без колаба не обязательно, если библиотека у вас уже установлена"
   ]
  },
  {
   "cell_type": "code",
   "execution_count": 3,
   "id": "9a117907",
   "metadata": {},
   "outputs": [
    {
     "name": "stdout",
     "output_type": "stream",
     "text": [
      "Collecting pandas\n",
      "  Downloading pandas-1.3.4-cp39-cp39-win_amd64.whl (10.2 MB)\n",
      "Collecting pytz>=2017.3\n",
      "  Downloading pytz-2021.3-py2.py3-none-any.whl (503 kB)\n",
      "Requirement already satisfied: python-dateutil>=2.7.3 in c:\\rnt\\welltest_examples\\env\\lib\\site-packages (from pandas) (2.8.2)\n",
      "Requirement already satisfied: numpy>=1.17.3 in c:\\rnt\\welltest_examples\\env\\lib\\site-packages (from pandas) (1.21.2)\n",
      "Requirement already satisfied: six>=1.5 in c:\\rnt\\welltest_examples\\env\\lib\\site-packages (from python-dateutil>=2.7.3->pandas) (1.16.0)\n",
      "Installing collected packages: pytz, pandas\n",
      "Successfully installed pandas-1.3.4 pytz-2021.3\n"
     ]
    }
   ],
   "source": [
    "!pip install pandas\n"
   ]
  },
  {
   "cell_type": "code",
   "execution_count": 1,
   "id": "rental-beginning",
   "metadata": {},
   "outputs": [],
   "source": [
    "from dash import Dash, html, dcc, callback, Output, Input\n",
    "import plotly.express as px\n",
    "import pandas as pd\n",
    "\n",
    "import pandas as pd\n",
    "import numpy as np\n",
    "import scipy.special as sc"
   ]
  },
  {
   "cell_type": "code",
   "execution_count": 2,
   "id": "stock-elephant",
   "metadata": {},
   "outputs": [],
   "source": [
    "# Решение линейного стока уравнения фильтрации\n",
    "def pd_ei(rd, td):\n",
    "  return -1/2*sc.expi(-rd**2 / 4 / td)"
   ]
  },
  {
   "cell_type": "code",
   "execution_count": 10,
   "id": "white-logic",
   "metadata": {},
   "outputs": [
    {
     "data": {
      "text/html": [
       "\n",
       "        <iframe\n",
       "            width=\"100%\"\n",
       "            height=\"650\"\n",
       "            src=\"http://127.0.0.1:8050/\"\n",
       "            frameborder=\"0\"\n",
       "            allowfullscreen\n",
       "            \n",
       "        ></iframe>\n",
       "        "
      ],
      "text/plain": [
       "<IPython.lib.display.IFrame at 0x7fd31a803f10>"
      ]
     },
     "metadata": {},
     "output_type": "display_data"
    }
   ],
   "source": [
    "df = pd.DataFrame(columns = ['pd', 'td', 'rd'])\n",
    "df['rd'] = np.logspace(0.1, 4, 100)\n",
    "\n",
    "app = Dash(__name__)\n",
    "app.layout = html.Div([\n",
    "    html.H1(\"JupyterDash Demo test 2\"),\n",
    "    dcc.Graph(id='graph'),\n",
    "    html.Label([\"td\"]),\n",
    "    dcc.Slider(\n",
    "            id='my-slider',\n",
    "            min=2,\n",
    "            max=8,\n",
    "            step=0.1,\n",
    "            value=4,\n",
    "            ),\n",
    "    html.Label([\"----\"]),\n",
    "    dcc.Checklist(\n",
    "        id='my-check',\n",
    "        options=[\n",
    "            {'label': 'semi log', 'value': 'semilog'}\n",
    "        ],\n",
    "            value=['semi log', 'semilog']\n",
    "        )\n",
    "])\n",
    "\n",
    "# Define callback to update graph\n",
    "@app.callback(\n",
    "    Output('graph', 'figure'),\n",
    "    Input(\"my-slider\", \"value\"),\n",
    "    Input(\"my-check\", \"value\"),\n",
    "    \n",
    ")\n",
    "def update_figure(td, log):\n",
    "    df['td'] = round(10**td)\n",
    "    df['pd'] = pd_ei(df['rd'], df['td'])\n",
    "    return px.line(\n",
    "        df, x=\"rd\", y=\"pd\", color = \"td\",\n",
    "        title=\"time = \"+str(round(10**td)),\n",
    "        log_x = log==['semi log', 'semilog']\n",
    "    )\n",
    "# Run app and display result inline in the notebook\n",
    "app.run_server(mode='inline')"
   ]
  },
  {
   "cell_type": "code",
   "execution_count": null,
   "id": "9f820c38-428a-4ef9-a5dd-16c273a53dca",
   "metadata": {},
   "outputs": [],
   "source": []
  }
 ],
 "metadata": {
  "kernelspec": {
   "display_name": "Python 3 (ipykernel)",
   "language": "python",
   "name": "python3"
  },
  "language_info": {
   "codemirror_mode": {
    "name": "ipython",
    "version": 3
   },
   "file_extension": ".py",
   "mimetype": "text/x-python",
   "name": "python",
   "nbconvert_exporter": "python",
   "pygments_lexer": "ipython3",
   "version": "3.11.4"
  }
 },
 "nbformat": 4,
 "nbformat_minor": 5
}
