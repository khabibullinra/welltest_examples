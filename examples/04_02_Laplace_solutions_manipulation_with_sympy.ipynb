{
 "cells": [
  {
   "cell_type": "markdown",
   "id": "7e10024d",
   "metadata": {},
   "source": [
    "# 4.2. Уравнение фильтрации и его решения - построение с использованием python и sympy\n",
    "\n",
    "Материалы курсов \"Исследования скважин и пластов\" и \"Гидродинамические исследования скважин\" в РГУ нефти и газа имени И.М.Губкина.\n",
    "\n",
    "версия 0.2 от 22.10.2023\n",
    "\n",
    "Хабибуллин Ринат 2021-2023 г.\n",
    "\n",
    "---\n"
   ]
  },
  {
   "cell_type": "markdown",
   "id": "2a63d6d3",
   "metadata": {},
   "source": [
    "# Содержание\n",
    "\n",
    "* [1 Уравнение фильтрации](#421) \n",
    "* [2 Общее решение модифицированного уравнения Бесселя](#422) \n",
    "* [3 Частное решение для бесконечного пласта и конечного радиуса скважины](#423) \n",
    "* [4 Построение численных решений на основе аналитического  с использованием `mpmath`](#424) \n",
    "* [5 Построение численных решений на основе аналитического  с использованием `numpy` и `scipy`](#425) \n",
    "* [6 Частное решение для конечного круглого пласта с постоянным давлением на контуре и конечного радиуса скважины.](#426) \n",
    "    * [6.1. Построение решения с использованием `sympy.dsolve`](#4261) \n",
    "* [7 Частное решение для конечного круглого пласта с замкнутой границей и конечного радиуса скважины.](#427) \n"
   ]
  },
  {
   "cell_type": "markdown",
   "id": "2ef236fd",
   "metadata": {},
   "source": [
    "Системы компьютерной алгебры могут заметно облегчить работу со сложными математическими выражениями, в частности в решениями уравнения фильтрации. В данной тетрадки соберем примеры работы с системой [sympy с использованием python](https://www.sympy.org/en/index.html). Эта система аналогична коммерческим системам [Wolfram Mathematica](https://www.wolfram.com/mathematica/) или [Maple](https://www.maplesoft.com/products/Maple/), и хотя не обладает столь же широкими возможностями, зато открыта и бесплатна и во многом способна помочь решать инженерные задачи. \n",
    "\n",
    "Для установки системы надо выполнить команду `pip install sympy`"
   ]
  },
  {
   "cell_type": "code",
   "execution_count": 1,
   "id": "394fa2c1",
   "metadata": {},
   "outputs": [
    {
     "name": "stdout",
     "output_type": "stream",
     "text": [
      "Requirement already satisfied: anaflow in c:\\rnt\\welltest_examples\\env\\lib\\site-packages (1.0.1)\n",
      "Requirement already satisfied: pentapy>=1.1.0 in c:\\rnt\\welltest_examples\\env\\lib\\site-packages (from anaflow) (1.1.2)\n",
      "Requirement already satisfied: scipy>=1.1.0 in c:\\rnt\\welltest_examples\\env\\lib\\site-packages (from anaflow) (1.7.1)\n",
      "Requirement already satisfied: numpy>=1.14.5 in c:\\rnt\\welltest_examples\\env\\lib\\site-packages (from anaflow) (1.20.3)\n"
     ]
    }
   ],
   "source": [
    "# чтобы работало на колабе надо установить пакет для численного обратного преобразования Лапласа\n",
    "!pip install anaflow"
   ]
  },
  {
   "cell_type": "code",
   "execution_count": 1,
   "id": "62566608",
   "metadata": {},
   "outputs": [],
   "source": [
    "import sympy as sp\n",
    "\n",
    "# для построения численных решений можно использовать два варианта - mpmath и numpy в связке с scipy \n",
    "import numpy as np\n",
    "import mpmath as mp\n",
    "# для построения графиков когда надо, используем matplotlib\n",
    "import matplotlib.pyplot as plt\n",
    "# для численного обратного преобразования Лапласа с использованием numpy и scipy функций\n",
    "import anaflow"
   ]
  },
  {
   "cell_type": "markdown",
   "id": "50121de4",
   "metadata": {},
   "source": [
    "## 1 Уравнение фильтрации <a class=\"anchor\" id=\"421\"></a>\n",
    "\n",
    "Рассматривается уравнение фильтрации в безразмерных переменных \n",
    "\n",
    "$$ \n",
    "\\frac{\\partial p_D}{ \\partial t_D} = \\frac{1}{r_D}\\left[ \\frac{ \\partial{}}{ \\partial{r_D} }\\left( r_D \\dfrac{\\partial p_D}{ \\partial r_D} \\right) \\right]  \n",
    "\\tag{1.1}\n",
    "$$\n",
    "\n",
    "где введены следующие безразмерные переменные\n",
    "* $r_D$ - безразмерное расстояние от центра скважины\n",
    "* $t_D$ - безразмерное время\n",
    "* $p_D$ - безразмерное давление\n",
    "\n",
    "Соответствующие определения безразмерных переменных\n",
    "\n",
    "$$ r_D = \\frac{r}{r_w} \\tag{1.2}$$\n",
    "$$ t_D = \\frac{0.00036 kt}{\\phi \\mu c_t r_w^2}  \\tag{1.3}$$\n",
    "$$ p_D = \\frac{kh}{ 18.41 q_s B \\mu} \\left( p_i - p \\right)  \\tag{1.4} $$\n",
    "\n",
    "где в свою очередь \n",
    "* $q_s$ - дебит скважины на поверхности, приведенный к нормальным условиям, м3/сут\n",
    "* $\\phi$ - пористость, доли единиц\n",
    "* $\\mu$ - вязкость нефти в пласте, сП\n",
    "* $B$ - объемный коэффициент нефти, м3/м3\n",
    "* $p_i$ - начальное давление в пласте, атм\n",
    "* $p$ - давление забойное, атм\n",
    "* $c_t$ - общая сжимаемость системы в пласте, 1/атм\n",
    "* $k$ - проницаемость, мД\n",
    "* $t$ -  время, час\n",
    "* $r$ - расстояние от центра скважины, м\n",
    "* $r_w$ - радиус скважины, м"
   ]
  },
  {
   "cell_type": "markdown",
   "id": "6d9c65f9",
   "metadata": {},
   "source": [
    "Решение такого уравнение может быть получено с использованием <a href=\"https://ru.wikipedia.org/wiki/%D0%9F%D1%80%D0%B5%D0%BE%D0%B1%D1%80%D0%B0%D0%B7%D0%BE%D0%B2%D0%B0%D0%BD%D0%B8%D0%B5_%D0%9B%D0%B0%D0%BF%D0%BB%D0%B0%D1%81%D0%B0\"\n",
    "                        target=\"_blank\" rel=\"noreferrer noopener\">преобразования Лапласа</a>.\n",
    "\n",
    "$$ \n",
    "L \\left [ f(t) \\right] = \\tilde{f}(u) = \\int_{0}^{\\infty}f(t)e^{-ut}dt \n",
    "\\tag{1.4}\n",
    "$$\n",
    "\n",
    "где $u$ параметр пространства Лапласа соответствующий времени.\n",
    "\n",
    "Тогда уравнение в пространстве Лапласа преобразуется к виду:\n",
    "\n",
    "$$ \n",
    "u \\widetilde{p_D}  =  \\dfrac{1}{r_D} \\left[\\dfrac{d}{d r_D} \\left(r_D \\dfrac{d{\\widetilde{p_D}}}{d r_D} \\right) \\right] \n",
    "\\tag{1.5}\n",
    "$$\n",
    "\n",
    "Уравнение известно как  <a href=\"https://ru.wikipedia.org/wiki/%D0%9C%D0%BE%D0%B4%D0%B8%D1%84%D0%B8%D1%86%D0%B8%D1%80%D0%BE%D0%B2%D0%B0%D0%BD%D0%BD%D1%8B%D0%B5_%D1%84%D1%83%D0%BD%D0%BA%D1%86%D0%B8%D0%B8_%D0%91%D0%B5%D1%81%D1%81%D0%B5%D0%BB%D1%8F\"> модифицированное уравнение Бесселя </a>. \n",
    "где \n",
    "* $u$ - переменная пространства Лапласа, соответствующая времени\n",
    "* $\\widetilde{p_D}(u, r_D)$ - изображение давления в пространстве Лапласа\n",
    "\n",
    "С подобными уравнениями можно начать работать с использованием системы компьютерной алгебры [`sympy`](https://www.sympy.org/en/index.html). "
   ]
  },
  {
   "cell_type": "code",
   "execution_count": 2,
   "id": "12f372bb",
   "metadata": {},
   "outputs": [],
   "source": [
    "# определим переменные с которыми будем работать \n",
    "\n",
    "r_d = sp.symbols('r_D', real=True, positive=True)\n",
    "p_d = sp.symbols('p_D', cls=sp.Function, real=True, positive=True)\n",
    "u = sp.symbols('u',real=True, positive=True)\n",
    "C1, C2 = sp.symbols('C1 C2')"
   ]
  },
  {
   "cell_type": "code",
   "execution_count": 3,
   "id": "8120ef8e",
   "metadata": {},
   "outputs": [
    {
     "data": {
      "text/latex": [
       "$\\displaystyle u p_{D}{\\left(r_{D} \\right)} = \\frac{r_{D} \\frac{d^{2}}{d r_{D}^{2}} p_{D}{\\left(r_{D} \\right)} + \\frac{d}{d r_{D}} p_{D}{\\left(r_{D} \\right)}}{r_{D}}$"
      ],
      "text/plain": [
       "Eq(u*p_D(r_D), (r_D*Derivative(p_D(r_D), (r_D, 2)) + Derivative(p_D(r_D), r_D))/r_D)"
      ]
     },
     "execution_count": 3,
     "metadata": {},
     "output_type": "execute_result"
    }
   ],
   "source": [
    "# определим уравнение фильтрации в пространстве Лапласа\n",
    "diff_eq = sp.Eq(u * p_d(r_d),\n",
    "                1 / r_d * (sp.diff(r_d * sp.diff(p_d(r_d), r_d) , r_d)) )\n",
    "diff_eq"
   ]
  },
  {
   "cell_type": "markdown",
   "id": "18b25d43",
   "metadata": {},
   "source": [
    "## 2 Общее решение модифицированного уравнения Бесселя <a class=\"anchor\" id=\"422\"></a>"
   ]
  },
  {
   "cell_type": "code",
   "execution_count": 4,
   "id": "06ae9a03",
   "metadata": {},
   "outputs": [
    {
     "data": {
      "text/latex": [
       "$\\displaystyle p_{D}{\\left(r_{D} \\right)} = C_{1} I_{0}\\left(r_{D} \\sqrt{u}\\right) + C_{2} Y_{0}\\left(i r_{D} \\sqrt{u}\\right)$"
      ],
      "text/plain": [
       "Eq(p_D(r_D), C1*besseli(0, r_D*sqrt(u)) + C2*bessely(0, I*r_D*sqrt(u)))"
      ]
     },
     "execution_count": 4,
     "metadata": {},
     "output_type": "execute_result"
    }
   ],
   "source": [
    "# попробуем решить уравнение \n",
    "soln = sp.dsolve(diff_eq, p_d(r_d))\n",
    "soln"
   ]
  },
  {
   "cell_type": "code",
   "execution_count": 5,
   "id": "9cc32875",
   "metadata": {},
   "outputs": [
    {
     "data": {
      "text/plain": [
       "(True, 0)"
      ]
     },
     "execution_count": 5,
     "metadata": {},
     "output_type": "execute_result"
    }
   ],
   "source": [
    "# проверим, что решение полученное dsolve удовлетворяет уравнению\n",
    "sp.checkodesol(diff_eq, soln)"
   ]
  },
  {
   "cell_type": "markdown",
   "id": "24d05214",
   "metadata": {},
   "source": [
    "Уравнение Бесселя легко решается, \n",
    "$$\\displaystyle \\operatorname{p_{d}}{\\left(r_{d} \\right)} = C_{1} I_{0}\\left(r_{d} \\sqrt{u}\\right) + C_{2} Y_{0}\\left(i r_{d} \\sqrt{u}\\right) \\tag{2.1}$$\n",
    "\n",
    "хотя решение \\eqref{2.1} по виду и немного отличается от того, что обычно приводится в книгах. Вместо мофицированной функции Бесселя второго рода $K_0(x)$ решение выражается через функцию Бесселя второго рода $Y_0(ix)$ для мнимого арумента.\n",
    "\n",
    "[Известны выражения](https://en.wikipedia.org/wiki/Bessel_function#Modified_Bessel_functions:_I%CE%B1,_K%CE%B1) связывающие функции Бесселя первого $J_\\alpha(iz)$ и второго рода $Y_\\alpha(iz)$ для мнимых аргументов с модифицированными функциями Бесселя первого $I_\\alpha(z)$  и второго рода $K_\\alpha(z)$.\n",
    "\n",
    "\n",
    "$$ J_\\alpha(iz) = e^{\\frac{\\alpha\\pi i}{2}} I_\\alpha(z) \\tag{2.2} $$\n",
    "$$ Y_\\alpha(iz) = e^{\\frac{(\\alpha+1)\\pi i}{2}}I_\\alpha(z) - \\frac{2}{\\pi}e^{-\\frac{\\alpha\\pi i}{2}}K_\\alpha(z) \\tag{2.3}$$\n",
    "\n",
    "преобразуем \\eqref{2.3}\n",
    "\n",
    "$$ Y_0(iz) = e^{\\frac{\\pi i}{2}}I_0(z) - \\dfrac{2}{\\pi}K_0(z) \\tag{2.4}$$\n",
    "\n",
    "Учитывая эти выражения можно убедиться что выражение вида \n",
    "\n",
    "$$ \n",
    "\\widetilde{p_D}(u, r_D) = A(u) K_0(r_D \\sqrt u) + B(u) I_0(r_D \\sqrt u) \n",
    "\\tag{2.5}\n",
    "$$\n",
    "\n",
    "которое можно найти в книгах также будет являться решение уравнения фильтрации, что можно проверить командой `sympy.checkodesol`"
   ]
  },
  {
   "cell_type": "code",
   "execution_count": 7,
   "id": "6b8a85aa",
   "metadata": {},
   "outputs": [
    {
     "data": {
      "text/latex": [
       "$\\displaystyle p_{D}{\\left(r_{D} \\right)} = A K_{0}\\left(r_{D} \\sqrt{u}\\right) + B I_{0}\\left(r_{D} \\sqrt{u}\\right)$"
      ],
      "text/plain": [
       "Eq(p_D(r_D), A*besselk(0, r_D*sqrt(u)) + B*besseli(0, r_D*sqrt(u)))"
      ]
     },
     "metadata": {},
     "output_type": "display_data"
    }
   ],
   "source": [
    "# зададим в явном виде решение с использованием K_0 и I_0\n",
    "A, B = sp.symbols('A B')\n",
    "soln2 = sp.Eq(p_d(r_d) , A * sp.besselk(0, r_d * sp.sqrt(u)) + B * sp.besseli(0, r_d * sp.sqrt(u)))\n",
    "display(soln2)"
   ]
  },
  {
   "cell_type": "code",
   "execution_count": 8,
   "id": "0ee6a915",
   "metadata": {},
   "outputs": [
    {
     "name": "stdout",
     "output_type": "stream",
     "text": [
      "p_D(r_D) = A⋅besselk(0, r_D⋅√u) + B⋅besseli(0, r_D⋅√u)\n"
     ]
    }
   ],
   "source": [
    "sp.pprint(soln2)"
   ]
  },
  {
   "cell_type": "code",
   "execution_count": 9,
   "id": "85ded053",
   "metadata": {},
   "outputs": [
    {
     "data": {
      "text/plain": [
       "(True, 0)"
      ]
     },
     "execution_count": 9,
     "metadata": {},
     "output_type": "execute_result"
    }
   ],
   "source": [
    "# проверим, что это решение также удовлетворяет исходному уравнению\n",
    "sp.checkodesol(diff_eq, soln2)"
   ]
  },
  {
   "cell_type": "markdown",
   "id": "f7eb2a32",
   "metadata": {},
   "source": [
    "Дальше покажем как можно работать с решением (2.5) для построения частных решений"
   ]
  },
  {
   "cell_type": "markdown",
   "id": "31b5cb18",
   "metadata": {},
   "source": [
    "## 3 Частное решение для бесконечного пласта и конечного радиуса скважины. <a class=\"anchor\" id=\"423\"></a>\n",
    "\n",
    "Частное решение строится за счет поиска параметров $A$ и $B$ для уравнения (2.5) так, чтобы они удовлетворяли граничным условиям. \n",
    "\n",
    "1. Граничное условия на бесконечности \n",
    "\n",
    "$$\\lim_{r_D \\to \\infty} p_D(r_D, t_D) = 0  \\tag{3.1}$$\n",
    "\n",
    "в пространстве Лапласа преобразуется в следующее\n",
    "\n",
    "$$\\lim_{r_D \\to \\infty} \\widetilde{p_D}(r_D, u) = 0 \\tag{3.2}$$\n",
    "\n",
    "2. Граничное условие на скважине\n",
    "\n",
    "$$\\lim_{r_D \\to r_{wD}} \\left[ r_D \\dfrac{ \\partial p_D(r_D, t_D)}{\\partial r_D} \\right] = -1  \\tag{3.3}$$\n",
    "\n",
    "в пространстве Лапласа   преобразуется к\n",
    "\n",
    "$$\\lim_{r_D \\to r_{wD}} \\left[ r_D \\dfrac{ d \\widetilde{p_D}}{d r_D} \\right] = -\\dfrac{1}{u} \\tag{3.4}$$ \n"
   ]
  },
  {
   "cell_type": "markdown",
   "id": "a40c892a",
   "metadata": {},
   "source": [
    "Условие на бесконечности трудно записать в `sympy` в явном виде. Но можно проверить пределы выражения (2.5) при разных значениях параметров  $A$ и $B$"
   ]
  },
  {
   "cell_type": "code",
   "execution_count": 10,
   "id": "8f647acf",
   "metadata": {},
   "outputs": [
    {
     "data": {
      "text/latex": [
       "$\\displaystyle \\lim_{r_{d} \\to \\infty}\\left(A K_{0}\\left(r_{d} \\sqrt{u}\\right) + B I_{0}\\left(r_{d} \\sqrt{u}\\right)\\right)$"
      ],
      "text/plain": [
       "Limit(A*besselk(0, r_d*sqrt(u)) + B*besseli(0, r_d*sqrt(u)), r_d, oo, dir='-')"
      ]
     },
     "execution_count": 10,
     "metadata": {},
     "output_type": "execute_result"
    }
   ],
   "source": [
    "sp.limit(soln2.rhs, r_d, sp.oo)"
   ]
  },
  {
   "cell_type": "markdown",
   "id": "91201784",
   "metadata": {},
   "source": [
    "Предел при призвольных  $A$ и $B$ не определен.\n",
    "\n",
    "Положим $A=0$. Это делается командой `.subs(A, 0)` для исследуемого выражения"
   ]
  },
  {
   "cell_type": "code",
   "execution_count": 11,
   "id": "297d0198",
   "metadata": {},
   "outputs": [
    {
     "data": {
      "text/latex": [
       "$\\displaystyle \\lim_{r_{d} \\to \\infty}\\left(B I_{0}\\left(r_{d} \\sqrt{u}\\right)\\right)$"
      ],
      "text/plain": [
       "Limit(B*besseli(0, r_d*sqrt(u)), r_d, oo, dir='-')"
      ]
     },
     "execution_count": 11,
     "metadata": {},
     "output_type": "execute_result"
    }
   ],
   "source": [
    "sp.limit(soln2.rhs.subs(A, 0), r_d, sp.oo)"
   ]
  },
  {
   "cell_type": "markdown",
   "id": "4e816ebd",
   "metadata": {},
   "source": [
    "Получаем, что этот предел также не определен. Положим $B=0$."
   ]
  },
  {
   "cell_type": "code",
   "execution_count": 12,
   "id": "0348d576",
   "metadata": {},
   "outputs": [
    {
     "data": {
      "text/latex": [
       "$\\displaystyle 0$"
      ],
      "text/plain": [
       "0"
      ]
     },
     "execution_count": 12,
     "metadata": {},
     "output_type": "execute_result"
    }
   ],
   "source": [
    "sp.limit(soln2.rhs.subs(B, 0), r_d, sp.oo)"
   ]
  },
  {
   "cell_type": "markdown",
   "id": "ded69501",
   "metadata": {},
   "source": [
    "Получаем, что при $B=0$  выражение $\\displaystyle \\lim_{r_{d} \\to \\infty}\\left(A K_{0}\\left(r_{d} \\sqrt{u}\\right) + B I_{0}\\left(r_{d} \\sqrt{u}\\right)\\right) = 0$ \n",
    "\n",
    "Откуда можно сделать вывод, что для приведенных граничных условий $B=0$."
   ]
  },
  {
   "cell_type": "code",
   "execution_count": 13,
   "id": "e7577910",
   "metadata": {},
   "outputs": [
    {
     "data": {
      "text/latex": [
       "$\\displaystyle \\operatorname{p_{d}}{\\left(r_{d} \\right)} = A K_{0}\\left(r_{d} \\sqrt{u}\\right)$"
      ],
      "text/plain": [
       "Eq(p_d(r_d), A*besselk(0, r_d*sqrt(u)))"
      ]
     },
     "execution_count": 13,
     "metadata": {},
     "output_type": "execute_result"
    }
   ],
   "source": [
    "soln3 = soln2.subs(B, 0)\n",
    "soln3"
   ]
  },
  {
   "cell_type": "markdown",
   "id": "fcc5ee5a",
   "metadata": {},
   "source": [
    "Найдем констранту $A$ из второго граничного условия (3.4)\n",
    "\n",
    "$$\\lim_{r_D \\to r_{wD}} \\left[ r_D \\dfrac{ d \\widetilde{p_D}}{d r_D} \\right] = -\\dfrac{1}{u} \\tag{3.4}$$ \n"
   ]
  },
  {
   "cell_type": "code",
   "execution_count": 14,
   "id": "f7bc4c9a",
   "metadata": {},
   "outputs": [
    {
     "data": {
      "text/latex": [
       "$\\displaystyle - A r_{d} \\sqrt{u} K_{1}\\left(r_{d} \\sqrt{u}\\right) = - \\frac{1}{u}$"
      ],
      "text/plain": [
       "Eq(-A*r_d*sqrt(u)*besselk(1, r_d*sqrt(u)), -1/u)"
      ]
     },
     "execution_count": 14,
     "metadata": {},
     "output_type": "execute_result"
    }
   ],
   "source": [
    "bc2 = sp.Eq(r_d * soln3.rhs.diff(r_d), -1/u)\n",
    "bc2"
   ]
  },
  {
   "cell_type": "code",
   "execution_count": 15,
   "id": "d205bdb7",
   "metadata": {},
   "outputs": [
    {
     "data": {
      "text/plain": [
       "[1/(r_wd*u**(3/2)*besselk(1, r_wd*sqrt(u)))]"
      ]
     },
     "execution_count": 15,
     "metadata": {},
     "output_type": "execute_result"
    }
   ],
   "source": [
    "r_wd = sp.symbols('r_wd', real=True, positive=True)\n",
    "bc2_sol = sp.solve(bc2.subs(r_d, r_wd), A)\n",
    "bc2_sol"
   ]
  },
  {
   "cell_type": "code",
   "execution_count": 16,
   "id": "5d81db3b",
   "metadata": {},
   "outputs": [
    {
     "data": {
      "text/latex": [
       "$\\displaystyle \\operatorname{p_{d}}{\\left(r_{d} \\right)} = \\frac{K_{0}\\left(r_{d} \\sqrt{u}\\right)}{r_{wd} u^{\\frac{3}{2}} K_{1}\\left(r_{wd} \\sqrt{u}\\right)}$"
      ],
      "text/plain": [
       "Eq(p_d(r_d), besselk(0, r_d*sqrt(u))/(r_wd*u**(3/2)*besselk(1, r_wd*sqrt(u))))"
      ]
     },
     "execution_count": 16,
     "metadata": {},
     "output_type": "execute_result"
    }
   ],
   "source": [
    "soln4 = soln3.subs(A, bc2_sol[0])\n",
    "soln4"
   ]
  },
  {
   "cell_type": "markdown",
   "id": "adfa651f",
   "metadata": {},
   "source": [
    "При $r_{wd} = 1$ получим"
   ]
  },
  {
   "cell_type": "code",
   "execution_count": 17,
   "id": "10bd8ce5",
   "metadata": {},
   "outputs": [
    {
     "data": {
      "text/latex": [
       "$\\displaystyle \\operatorname{p_{d}}{\\left(r_{d} \\right)} = \\frac{K_{0}\\left(r_{d} \\sqrt{u}\\right)}{u^{\\frac{3}{2}} K_{1}\\left(\\sqrt{u}\\right)}$"
      ],
      "text/plain": [
       "Eq(p_d(r_d), besselk(0, r_d*sqrt(u))/(u**(3/2)*besselk(1, sqrt(u))))"
      ]
     },
     "execution_count": 17,
     "metadata": {},
     "output_type": "execute_result"
    }
   ],
   "source": [
    "soln5 = soln4.subs(r_wd, 1)\n",
    "soln5"
   ]
  },
  {
   "cell_type": "markdown",
   "id": "7fb776b7",
   "metadata": {},
   "source": [
    "Получили решение аналогичное решению (12.23). При этом часть преобразований при получении решений была сделана с использованием sympy.\n",
    "\n",
    "$$\\displaystyle \\operatorname{p_{d}}{\\left(r_{d} \\right)} = \\frac{K_{0}\\left(r_{d} \\sqrt{u}\\right)}{u^{\\frac{3}{2}} K_{1}\\left(\\sqrt{u}\\right)} \\tag{3.5} $$"
   ]
  },
  {
   "cell_type": "markdown",
   "id": "6c0f5a4a",
   "metadata": {},
   "source": [
    "## 4 Построение численных решений на основе аналитического  с использованием `mpmath` <a class=\"anchor\" id=\"424\"></a>\n",
    "\n",
    "Полученное решение можно использовать для отображения. Оно легко копируется в формате LaTeX и встравляется в блоки описания. Его можно использовать для дальнейших аналитических преобразований. Его можно также использовать для построения численных решений. \n",
    "\n",
    "Покажем как решение можно построить с использованием mpmath и реализации численного обратного преобразования mpmath"
   ]
  },
  {
   "cell_type": "code",
   "execution_count": 18,
   "id": "c11b8c46",
   "metadata": {},
   "outputs": [],
   "source": [
    "# преобразование sympy выражения в lambda функцию с использованием mpmath\n",
    "soln5_mpmath = sp.lambdify([u, r_d], soln5.rhs, modules = ['mpmath'])\n",
    "\n",
    "# после преобразования lambda функцию можно использовать для проведения расчетов как обычныую функцию"
   ]
  },
  {
   "cell_type": "code",
   "execution_count": 19,
   "id": "5d513173",
   "metadata": {},
   "outputs": [
    {
     "data": {
      "text/plain": [
       "mpf('0.69948393559377231')"
      ]
     },
     "execution_count": 19,
     "metadata": {},
     "output_type": "execute_result"
    }
   ],
   "source": [
    "# пример расчета для одного значения, чтобы убедиться, что все работает\n",
    "soln5_mpmath(u=1, r_d=1)"
   ]
  },
  {
   "cell_type": "code",
   "execution_count": 20,
   "id": "f45de824",
   "metadata": {},
   "outputs": [],
   "source": [
    "# определим функцию для расчета обратного преобразования Лапласа\n",
    "# отдельная функция удобно чтобы передавать r_d второй параметр\n",
    "def soln5_inv_lapl(t_d=1000, r_d=1):\n",
    "    sol_lap = lambda u: soln5_mpmath(u=u, r_d=r_d)\n",
    "    return mp.invertlaplace(sol_lap, t_d)"
   ]
  },
  {
   "cell_type": "code",
   "execution_count": 21,
   "id": "d9fddbed",
   "metadata": {},
   "outputs": [
    {
     "data": {
      "text/plain": [
       "mpf('3.8605905955786238')"
      ]
     },
     "execution_count": 21,
     "metadata": {},
     "output_type": "execute_result"
    }
   ],
   "source": [
    "# пример расчета безразмерного давления с использованием mpmath\n",
    "soln5_inv_lapl(t_d=1000, r_d=1)"
   ]
  },
  {
   "cell_type": "code",
   "execution_count": 22,
   "id": "0aea1911",
   "metadata": {},
   "outputs": [
    {
     "data": {
      "image/png": "[encoded data removed]",
      "text/plain": [
       "<Figure size 432x288 with 1 Axes>"
      ]
     },
     "metadata": {
      "needs_background": "light"
     },
     "output_type": "display_data"
    }
   ],
   "source": [
    "# нарисуем график зависимости безразмерного давления от безразмерного времени\n",
    "# поскольку считает относительно медленно ограничим количество точек для расчета\n",
    "mp.plot(soln5_inv_lapl,[1,100], points=20)"
   ]
  },
  {
   "cell_type": "code",
   "execution_count": 23,
   "id": "dae8883f",
   "metadata": {},
   "outputs": [
    {
     "data": {
      "image/png": "[encoded data removed]",
      "text/plain": [
       "<Figure size 432x288 with 1 Axes>"
      ]
     },
     "metadata": {
      "needs_background": "light"
     },
     "output_type": "display_data"
    }
   ],
   "source": [
    "# нарисуем график зависимости безразмерного давления от безразмерного расстояния\n",
    "# поскольку считает относительно медленно ограничим количество точек для расчета\n",
    "td=1000\n",
    "mp.plot(lambda rd: soln5_inv_lapl(td,rd),[1,100], points=20)"
   ]
  },
  {
   "cell_type": "markdown",
   "id": "09022b13",
   "metadata": {},
   "source": [
    "## 5 Построение численных решений на основе аналитического  с использованием `numpy` и `scipy` <a class=\"anchor\" id=\"425\"></a>\n",
    "\n",
    "Использованием `mpmath` удобно для проверки расчетов, так как эта библиотека позволяет выбрать разные методы расчета и задать нужную точность. Но расчеты при этом проводятся медленно. Для более быстрых расчетов можно использовать расчетные функции `numpy` и `scipy`, а для обратного преобразования Лапласа библиотеку `anaflow`"
   ]
  },
  {
   "cell_type": "code",
   "execution_count": 24,
   "id": "a57811be",
   "metadata": {},
   "outputs": [],
   "source": [
    "# преобразование sympy выражения в lambda функцию с использованием numpy\n",
    "soln5_numpy = sp.lambdify([u, r_d], soln5.rhs, modules = ['numpy', 'scipy'])\n",
    "\n",
    "# после преобразования lambda функцию можно использовать для проведения расчетов как обычныую функцию"
   ]
  },
  {
   "cell_type": "code",
   "execution_count": 25,
   "id": "77e3f3a0",
   "metadata": {},
   "outputs": [
    {
     "data": {
      "text/plain": [
       "0.6994839355937723"
      ]
     },
     "execution_count": 25,
     "metadata": {},
     "output_type": "execute_result"
    }
   ],
   "source": [
    "# пример расчета для одного значения, чтобы убедиться, что все работает\n",
    "soln5_numpy(u=1, r_d=1)"
   ]
  },
  {
   "cell_type": "code",
   "execution_count": 26,
   "id": "37d03c34",
   "metadata": {},
   "outputs": [],
   "source": [
    "# определим функцию для расчета обратного преобразования Лапласа\n",
    "# отдельная функция удобно чтобы передавать r_d второй параметр\n",
    "def soln5_inv_lapl_numpy(t_d=1000, r_d=1):\n",
    "    sol_lap = anaflow.get_lap_inv(soln5_numpy,  r_d=r_d)\n",
    "    return sol_lap(t_d)"
   ]
  },
  {
   "cell_type": "code",
   "execution_count": 27,
   "id": "e5d95224",
   "metadata": {},
   "outputs": [
    {
     "data": {
      "text/plain": [
       "array([3.86059079])"
      ]
     },
     "execution_count": 27,
     "metadata": {},
     "output_type": "execute_result"
    }
   ],
   "source": [
    "# пример расчета для одного значения, чтобы убедиться, что все работает\n",
    "soln5_inv_lapl_numpy(1000)"
   ]
  },
  {
   "cell_type": "markdown",
   "id": "273bea60",
   "metadata": {},
   "source": [
    "Построим графики с использованием сгенерированного решения. В отличии от `mpmath` решения считает быстрее, поэтому можно построить сразу много графиков."
   ]
  },
  {
   "cell_type": "code",
   "execution_count": 28,
   "id": "685b3042",
   "metadata": {},
   "outputs": [
    {
     "data": {
      "image/png": "[encoded data removed]",
      "text/plain": [
       "<Figure size 1080x360 with 2 Axes>"
      ]
     },
     "metadata": {
      "needs_background": "light"
     },
     "output_type": "display_data"
    }
   ],
   "source": [
    "# зададим диапазоны изменения параметров для построения графиков\n",
    "td_arr = np.logspace(1,5,100)\n",
    "rd_arr = np.logspace(1,3,100)\n",
    "\n",
    "# построим графики\n",
    "fig, (ax1, ax2) = plt.subplots(1, 2, figsize=[15,5])\n",
    "for ri in np.linspace(1,200,10):\n",
    "    ax1.plot(td_arr, soln5_inv_lapl_numpy(td_arr, r_d=ri), label = f'$r_d={ri:.0f}$')\n",
    "for ti in np.linspace(1e4, 1e7,10):\n",
    "    ax2.plot(rd_arr, np.squeeze( [soln5_inv_lapl_numpy(ti, r_d=ri) for ri in rd_arr ] ), label = f'$t_d={ti:.0f}$')\n",
    "# наведем немного красоты\n",
    "ax1.set_xlabel('$t_d$')\n",
    "ax1.set_ylabel('$p_d$')\n",
    "ax1.legend()\n",
    "ax2.set_xlabel('$r_d$')\n",
    "ax2.set_ylabel('$p_d$')\n",
    "ax2.legend()\n",
    "plt.show()"
   ]
  }
 ],
 "metadata": {
  "kernelspec": {
   "display_name": "Python 3 (ipykernel)",
   "language": "python",
   "name": "python3"
  },
  "language_info": {
   "codemirror_mode": {
    "name": "ipython",
    "version": 3
   },
   "file_extension": ".py",
   "mimetype": "text/x-python",
   "name": "python",
   "nbconvert_exporter": "python",
   "pygments_lexer": "ipython3",
   "version": "3.11.4"
  }
 },
 "nbformat": 4,
 "nbformat_minor": 5
}
