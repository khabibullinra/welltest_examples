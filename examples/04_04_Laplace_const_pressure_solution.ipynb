{
 "cells": [
  {
   "cell_type": "markdown",
   "id": "6fa86397-d99b-41bc-9efe-b4346bce3649",
   "metadata": {},
   "source": [
    "# 3.2. Решения уравнения фильтрации для постоянного дебита\n",
    "\n",
    "Материалы курсов \"Исследования скважин и пластов\" и \"Гидродинамические исследования скважин\" в РГУ нефти и газа имени И.М.Губкина.\n",
    "\n",
    "Версия 0.1 от 21.10.2023\n",
    "\n",
    "Хабибуллин Ринат 2023 г.\n",
    "\n",
    "---"
   ]
  },
  {
   "cell_type": "code",
   "execution_count": 1,
   "id": "1252d37b-9378-4f3a-bb4d-6be3f29c7a25",
   "metadata": {},
   "outputs": [],
   "source": [
    "# импортируем библиотки, которые могут пригодиться для проведения расчетов\n",
    "import numpy as np\n",
    "import matplotlib.pyplot as plt\n",
    "\n",
    "import scipy.special as sc\n",
    "import anaflow\n",
    "\n",
    "import sympy as sp"
   ]
  },
  {
   "cell_type": "markdown",
   "id": "5bad68ea-e5ea-4c53-b340-9a2e98160cfd",
   "metadata": {},
   "source": [
    "Рассматривается уравнение фильтрации в безразмерных переменных \n",
    "\n",
    "$$ \n",
    "\\frac{\\partial p_D}{ \\partial t_D} = \\frac{1}{r_D}\\left[ \\frac{ \\partial{}}{ \\partial{r_D} }\\left( r_D \\dfrac{\\partial p_D}{ \\partial r_D} \\right) \\right]  \n",
    "\\tag{1}\n",
    "$$\n",
    "\n",
    "где введены следующие безразмерные переменные\n",
    "* $r_D$ - безразмерное расстояние от центра скважины\n",
    "* $t_D$ - безразмерное время\n",
    "* $p_D$ - безразмерное давление\n",
    "\n",
    "Соответствующие определения безразмерных переменных\n",
    "\n",
    "$$ r_D = \\frac{r}{r_w} \\tag{2}$$\n",
    "$$ t_D = \\frac{0.00036 kt}{\\phi \\mu c_t r_w^2}  \\tag{3}$$\n",
    "$$ p_D = \\frac{kh}{ 18.41 q_{ref} B \\mu} \\left( p_i - p \\right)  \\tag{4} $$\n",
    "$$ q_D = \\frac{q}{q_{ref}} \\tag{5}$$\n",
    "\n",
    "где в свою очередь \n",
    "* $q$ - дебит скважины на поверхности, приведенный к нормальным условиям, м3/сут\n",
    "* $q_{red}$ - референсный дебит скважины на поверхности, приведенный к нормальным условиям, м3/сут\n",
    "* $\\phi$ - пористость, доли единиц\n",
    "* $\\mu$ - вязкость нефти в пласте, сП\n",
    "* $B$ - объемный коэффициент нефти, м3/м3\n",
    "* $p_i$ - начальное давление в пласте, атм\n",
    "* $p$ - давление забойное, атм\n",
    "* $c_t$ - общая сжимаемость системы в пласте, 1/атм\n",
    "* $k$ - проницаемость, мД\n",
    "* $t$ -  время, час\n",
    "* $r$ - расстояние от центра скважины, м\n",
    "* $r_w$ - радиус скважины, м"
   ]
  },
  {
   "cell_type": "markdown",
   "id": "23c46be7-3fe6-4dbc-916b-c98fdbba81f4",
   "metadata": {},
   "source": [
    "$$u \\widetilde{p_D}  =  \\dfrac{1}{r_D} \\left[\\dfrac{d}{d r_D} \\left(r_D \\dfrac{d{\\widetilde{p_D}}}{d r_D} \\right) \\right]$$\n",
    "\n",
    "Общее решение\n",
    "$$\\widetilde{p_D}(u, r_D) = A(u) K_0(r_D \\sqrt u) + B(u) I_0(r_D \\sqrt u) $$\n",
    "\n"
   ]
  },
  {
   "cell_type": "code",
   "execution_count": 2,
   "id": "162db358-5a71-4ed4-aa11-2186eacd1417",
   "metadata": {},
   "outputs": [
    {
     "data": {
      "text/latex": [
       "$\\displaystyle \\operatorname{Lp}_{D}{\\left(r_{D} \\right)} = A K_{0}\\left(r_{D} \\sqrt{u}\\right) + B I_{0}\\left(r_{D} \\sqrt{u}\\right)$"
      ],
      "text/plain": [
       "Eq(Lp_D(r_D), A*besselk(0, r_D*sqrt(u)) + B*besseli(0, r_D*sqrt(u)))"
      ]
     },
     "metadata": {},
     "output_type": "display_data"
    }
   ],
   "source": [
    "# определим переменные с которыми будем работать \n",
    "\n",
    "t_d, r_d, q_d, u = sp.symbols('t_D r_D q_D u', real=True, positive=True)\n",
    "p_wd = sp.symbols('p_wD', real=True, positive=True)\n",
    "p_d, Lp_d = sp.symbols('p_D Lp_D', cls=sp.Function, real=True, positive=True)\n",
    "\n",
    "# зададим в явном виде решение с использованием K_0 и I_0\n",
    "A, B = sp.symbols('A B')\n",
    "eq_sol_general = sp.Eq(Lp_d(r_d) , A * sp.besselk(0, r_d * sp.sqrt(u)) + B * sp.besseli(0, r_d * sp.sqrt(u)))\n",
    "display(eq_sol_general)"
   ]
  },
  {
   "cell_type": "markdown",
   "id": "7c70a66d-313c-4697-9c69-40f5268c40c0",
   "metadata": {},
   "source": [
    "Зададим граничные условия\n",
    "\n",
    "\n",
    "1. Граничное условия на внешнем контуре с замкнутой границей\n",
    "\n",
    "$$\\lim_{r_D \\to \\infty} p_D(r_D,t_D) = 0 $$\n",
    "в пространстве Лапласа преобразуется в следующее\n",
    "\n",
    "$$\\lim_{r_D \\to \\infty} \\widetilde{p_D}(r_D,u) = 0 $$\n",
    "\n",
    "2. Граничное условие на скважине\n",
    "\n",
    "$$\\lim_{r_D \\to 1} \\left[  p_D(r_D, t_D) \\right] = p_{wD} $$\n",
    "\n",
    "в пространстве Лапласа  получим\n",
    "\n",
    "$$\\lim_{r_D \\to 1} \\left[  \\widetilde{p_D}(r_D,u) \\right] = \\dfrac{p_{wD}}{u} $$"
   ]
  },
  {
   "cell_type": "code",
   "execution_count": 3,
   "id": "013334c1-906d-4daa-8d9d-282cd2608056",
   "metadata": {},
   "outputs": [
    {
     "data": {
      "text/latex": [
       "$\\displaystyle p_{D}{\\left(r_{D},t_{D} \\right)} = p_{wD}$"
      ],
      "text/plain": [
       "Eq(p_D(r_D, t_D), p_wD)"
      ]
     },
     "metadata": {},
     "output_type": "display_data"
    }
   ],
   "source": [
    "# граничное условие на скважине\n",
    "eq_boundary = sp.Eq(p_d(r_d,t_d) , p_wd)\n",
    "display(eq_boundary)"
   ]
  },
  {
   "cell_type": "code",
   "execution_count": 4,
   "id": "8f9ba42a-781c-4d8d-949d-7b6be72e45d2",
   "metadata": {},
   "outputs": [
    {
     "data": {
      "text/latex": [
       "$\\displaystyle \\mathcal{L}_{t_{D}}\\left[p_{D}{\\left(r_{D},t_{D} \\right)}\\right]\\left(u\\right) = \\frac{p_{wD}}{u}$"
      ],
      "text/plain": [
       "Eq(LaplaceTransform(p_D(r_D, t_D), t_D, u), p_wD/u)"
      ]
     },
     "metadata": {},
     "output_type": "display_data"
    }
   ],
   "source": [
    "# применим преобразование Лапласа к обеим частям граничного условия\n",
    "eq_boundary_Laplace = sp.Eq(sp.laplace_transform(eq_boundary.lhs, t_d, u,  noconds=True) ,  \n",
    "                            sp.laplace_transform(eq_boundary.rhs, t_d, u,  noconds=True))\n",
    "display(eq_boundary_Laplace)"
   ]
  },
  {
   "cell_type": "code",
   "execution_count": 5,
   "id": "e69085b1-305f-4e83-a336-ead6d6a09959",
   "metadata": {},
   "outputs": [
    {
     "data": {
      "text/latex": [
       "$\\displaystyle \\operatorname{Lp}_{D}{\\left(r_{D} \\right)} = A K_{0}\\left(r_{D} \\sqrt{u}\\right)$"
      ],
      "text/plain": [
       "Eq(Lp_D(r_D), A*besselk(0, r_D*sqrt(u)))"
      ]
     },
     "metadata": {},
     "output_type": "display_data"
    }
   ],
   "source": [
    "# исходя из граничного условия на большом расстоянии получим B=0\n",
    "eq_sol_general = eq_sol_general.subs(B,0)\n",
    "display(eq_sol_general)"
   ]
  },
  {
   "cell_type": "code",
   "execution_count": 6,
   "id": "d01a6745-406a-41a9-bde0-d7b92520a5e4",
   "metadata": {},
   "outputs": [
    {
     "data": {
      "text/latex": [
       "$\\displaystyle A K_{0}\\left(\\sqrt{u}\\right) = \\frac{p_{wD}}{u}$"
      ],
      "text/plain": [
       "Eq(A*besselk(0, sqrt(u)), p_wD/u)"
      ]
     },
     "execution_count": 6,
     "metadata": {},
     "output_type": "execute_result"
    }
   ],
   "source": [
    "# найдем А\n",
    "eq_boundary_Laplace = sp.Eq(eq_sol_general.subs(r_d, 1).rhs, eq_boundary_Laplace.rhs)\n",
    "eq_boundary_Laplace"
   ]
  },
  {
   "cell_type": "code",
   "execution_count": 7,
   "id": "1991b059-d570-4652-872e-2e456dcbeb2c",
   "metadata": {},
   "outputs": [
    {
     "data": {
      "text/plain": [
       "[p_wD/(u*besselk(0, sqrt(u)))]"
      ]
     },
     "metadata": {},
     "output_type": "display_data"
    },
    {
     "data": {
      "text/latex": [
       "$\\displaystyle \\frac{p_{wD}}{u K_{0}\\left(\\sqrt{u}\\right)}$"
      ],
      "text/plain": [
       "p_wD/(u*besselk(0, sqrt(u)))"
      ]
     },
     "metadata": {},
     "output_type": "display_data"
    }
   ],
   "source": [
    "sol_A = sp.solve(eq_boundary_Laplace,A)\n",
    "display(sol_A)\n",
    "sol_A = sol_A[0]\n",
    "display(sol_A)"
   ]
  },
  {
   "cell_type": "code",
   "execution_count": 8,
   "id": "8bc96772-0065-48ad-960b-41472dfdef4d",
   "metadata": {},
   "outputs": [
    {
     "data": {
      "text/latex": [
       "$\\displaystyle \\operatorname{Lp}_{D}{\\left(r_{D} \\right)} = \\frac{p_{wD} K_{0}\\left(r_{D} \\sqrt{u}\\right)}{u K_{0}\\left(\\sqrt{u}\\right)}$"
      ],
      "text/plain": [
       "Eq(Lp_D(r_D), p_wD*besselk(0, r_D*sqrt(u))/(u*besselk(0, sqrt(u))))"
      ]
     },
     "metadata": {},
     "output_type": "display_data"
    }
   ],
   "source": [
    "eq_sol_const_pres = eq_sol_general.subs(A, sol_A)\n",
    "display(eq_sol_const_pres)"
   ]
  },
  {
   "cell_type": "markdown",
   "id": "b4df9ef5-078c-4d0f-85b9-108d55356f6c",
   "metadata": {},
   "source": [
    "$$q_D = -  r_D \\dfrac{ \\partial p_D(r_D, t_D)}{\\partial r_D} $$"
   ]
  },
  {
   "cell_type": "code",
   "execution_count": 9,
   "id": "66fc079b-80ae-465f-a0b1-a0dc435aa3ca",
   "metadata": {},
   "outputs": [
    {
     "data": {
      "text/latex": [
       "$\\displaystyle q_{D} = \\frac{p_{wD} K_{1}\\left(\\sqrt{u}\\right)}{\\sqrt{u} K_{0}\\left(\\sqrt{u}\\right)}$"
      ],
      "text/plain": [
       "Eq(q_D, p_wD*besselk(1, sqrt(u))/(sqrt(u)*besselk(0, sqrt(u))))"
      ]
     },
     "metadata": {},
     "output_type": "display_data"
    }
   ],
   "source": [
    "sol_qd = sp.Eq(q_d, (-r_d * sp.diff( eq_sol_const_pres.rhs, r_d)).subs(r_d,1))\n",
    "display(sol_qd)"
   ]
  },
  {
   "cell_type": "code",
   "execution_count": 10,
   "id": "be49a4a0-51be-4608-8806-b76f435c2ffa",
   "metadata": {},
   "outputs": [],
   "source": [
    "# пример функции реализующий расчет решения в пространстве Лапласа\n",
    "def qd_lapl_finite_rw(u, rd=1., p_wd=1):\n",
    "    \"\"\"\n",
    "    расчет решения c конечным радиусом скважины для безразмерного давления в пространстве Лапласа\n",
    "    u - переменная пространства Лапласа\n",
    "    rd- безразмерное расстояние от центра скважины\n",
    "    p_wd - безразмерный перепад давления на скважине\n",
    "    \"\"\"\n",
    "\n",
    "    u05 = u**0.5\n",
    "    return p_wd * sc.kn(1,  u05) / (u05 *  sc.kn(0, u05))\n",
    "\n",
    "# функция расчета безразмерного давления с использованием алгоритма Стефеста\n",
    "# для численного обратного преобразования Лапласа\n",
    "def qd_finite_rw_inv(td, r_d=1., p_wd = 1):\n",
    "\n",
    "    qd_inv = anaflow.get_lap_inv(qd_lapl_finite_rw, rd=r_d, p_wd=p_wd)\n",
    "    return qd_inv(td)"
   ]
  },
  {
   "cell_type": "code",
   "execution_count": 11,
   "id": "7a961bb5-cf3a-4efb-8818-8007ba20ad2b",
   "metadata": {},
   "outputs": [
    {
     "data": {
      "image/png": "[encoded data removed]",
      "text/plain": [
       "<Figure size 640x480 with 1 Axes>"
      ]
     },
     "metadata": {},
     "output_type": "display_data"
    }
   ],
   "source": [
    "td_arr = np.linspace(1, 10000, 1000)\n",
    "td24 = 5000\n",
    "dpd = 2\n",
    "\n",
    "td_new = td_arr-td24\n",
    "td_new[td_new<0]=1\n",
    "td_new\n",
    "\n",
    "plt.plot(td_arr, qd_finite_rw_inv(td_arr, r_d=1, p_wd=dpd) + qd_finite_rw_inv(td_new, r_d=1, p_wd=dpd) * np.heaviside(td_new-1,0) )\n",
    "plt.show()"
   ]
  },
  {
   "cell_type": "code",
   "execution_count": 12,
   "id": "da7c2235-b803-4e5b-bb22-824204e51bf7",
   "metadata": {},
   "outputs": [],
   "source": [
    "# определим функции для перевода размерных переменных в безразмерные и обратно\n",
    "# пригодится потом для построения графиков и ведения расчетов\n",
    "\n",
    "# при наименовании функций придерживаемся следующих соглашений\n",
    "# сначала идет название того, что считаем\n",
    "# в конце указывается размерность результата, если это уместно\n",
    "\n",
    "def r_from_rd_m(rd, rw_m=0.1):\n",
    "    \"\"\"\n",
    "    перевод безразмерного расстояния в размерное\n",
    "    rd -  безразмерное расстояние\n",
    "    rw_m -  радиус скважины, м\n",
    "    \"\"\"\n",
    "    return rd*rw_m\n",
    "\n",
    "def rd_from_r(r_m, rw_m=0.1):\n",
    "    \"\"\"\n",
    "    перевод размерного расстояния в безразмерное\n",
    "    r_m - размерное расстояние, м\n",
    "    rw_m - радиус скважины, м\n",
    "    \"\"\"\n",
    "    return r_m/rw_m\n",
    "\n",
    "def t_from_td_hr(td, k_mD=10, phi=0.2, mu_cP=1, ct_1atm=1e-5, rw_m=0.1):\n",
    "    \"\"\"\n",
    "    перевод безразмерного времени в размерное, результат в часах\n",
    "    td - безразмерное время\n",
    "    k_mD - проницаемость пласта, мД\n",
    "    phi - пористость, доли единиц\n",
    "    mu_cP - динамическая вязкость флюида, сП\n",
    "    ct_1atm - общая сжимаемость, 1/атм\n",
    "    rw_m - радиус скважины, м\n",
    "    \"\"\"\n",
    "    return td * phi * mu_cP * ct_1atm * rw_m * rw_m / k_mD / 0.00036\n",
    "\n",
    "def td_from_t(t_hr, k_mD=10, phi=0.2, mu_cP=1, ct_1atm=1e-5, rw_m=0.1):\n",
    "    \"\"\"\n",
    "    перевод размерного времени в безразмерное\n",
    "    t_hr - размерное время, час\n",
    "    k_mD - проницаемость пласта, мД\n",
    "    phi - пористость, доли единиц\n",
    "    mu_cP - динамическая вязкость флюида, сП\n",
    "    ct_1atm - общая сжимаемость, 1/атм\n",
    "    rw_m - радиус скважины, м\n",
    "    \"\"\"\n",
    "    return  0.00036 * t_hr * k_mD / (phi * mu_cP * ct_1atm * rw_m * rw_m)\n",
    "\n",
    "def p_from_pd_atma(pd, k_mD=10, h_m=10, q_sm3day=20, b_m3m3=1.2, mu_cP=1, pi_atma=250):\n",
    "    \"\"\"\n",
    "    перевод безразмерного давления в размерное, результат в абсолютных атмосферах\n",
    "    pd - безразмерное давление\n",
    "    k_mD - проницаемость пласта, мД\n",
    "    h_m - мощность пласта, м\n",
    "    q_sm3day - дебит на поверхности, м3/сут в с.у.\n",
    "    fvf_m3m3 - объемный коэффициент нефти, м3/м3\n",
    "    mu_cP - динамическая вязкость флюида, сП\n",
    "    pi_atma - начальное давление, абсолютные атм.\n",
    "    \"\"\"\n",
    "    return pi_atma - pd * 18.41 * q_sm3day * b_m3m3 * mu_cP / k_mD / h_m\n",
    "\n",
    "def pd_from_p(p_atma, k_mD=10, h_m=10, q_sm3day=20, b_m3m3=1.2, mu_cP=1, pi_atma=250):\n",
    "    \"\"\"\n",
    "    перевод размерного давления в безразмерное\n",
    "    p_atma - давление\n",
    "    k_mD - проницаемость пласта, мД\n",
    "    h_m - мощность пласта, м\n",
    "    q_sm3day - дебит на поверхности, м3/сут в с.у.\n",
    "    fvf_m3m3 - объемный коэффициент нефти, м3/м3\n",
    "    mu_cP - динамическая вязкость флюида, сП\n",
    "    pi_atma - начальное давление, абсолютные атм.\n",
    "    \"\"\"\n",
    "    return (pi_atma - p_atma) / (18.41 * q_sm3day * b_m3m3 * mu_cP) * k_mD * h_m"
   ]
  },
  {
   "cell_type": "code",
   "execution_count": 13,
   "id": "47ade3be-31e9-4581-add1-61edcb79d6c5",
   "metadata": {},
   "outputs": [
    {
     "data": {
      "image/png": "[encoded data removed]",
      "text/plain": [
       "<Figure size 640x480 with 1 Axes>"
      ]
     },
     "metadata": {},
     "output_type": "display_data"
    }
   ],
   "source": [
    "t_arr = np.linspace(0.001, 48, 1000)\n",
    "\n",
    "# исходные параметры модели\n",
    "k = 20\n",
    "mu = 0.5\n",
    "dp = 50\n",
    "dpd = pd_from_p(dp,\n",
    "                k_mD = k,\n",
    "                h_m =10,\n",
    "                q_sm3day=1,\n",
    "                b_m3m3=1.2,\n",
    "                mu_cP=mu,\n",
    "                pi_atma=250)\n",
    "\n",
    "td24 = td_from_t(24,\n",
    "                   k_mD=k,\n",
    "                   phi=0.2,\n",
    "                   mu_cP=mu,\n",
    "                   ct_1atm=1e-5,\n",
    "                   rw_m=0.1)\n",
    "td_arr = td_from_t(t_arr,\n",
    "                   k_mD=k,\n",
    "                   phi=0.2,\n",
    "                   mu_cP=mu,\n",
    "                   ct_1atm=1e-5,\n",
    "                   rw_m=0.1)\n",
    "\n",
    "td_new = td_arr-td24\n",
    "td_new[td_new<0]=1\n",
    "td_new\n",
    "\n",
    "plt.plot(t_arr, qd_finite_rw_inv(td_arr, r_d=1, p_wd=dpd) + qd_finite_rw_inv(td_new, r_d=1, p_wd=dpd) * np.heaviside(td_new-1,0) )\n",
    "plt.show()"
   ]
  }
 ],
 "metadata": {
  "kernelspec": {
   "display_name": "Python 3 (ipykernel)",
   "language": "python",
   "name": "python3"
  },
  "language_info": {
   "codemirror_mode": {
    "name": "ipython",
    "version": 3
   },
   "file_extension": ".py",
   "mimetype": "text/x-python",
   "name": "python",
   "nbconvert_exporter": "python",
   "pygments_lexer": "ipython3",
   "version": "3.11.5"
  }
 },
 "nbformat": 4,
 "nbformat_minor": 5
}
