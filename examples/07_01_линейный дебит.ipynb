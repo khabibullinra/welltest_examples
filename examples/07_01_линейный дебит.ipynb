{
 "cells": [
  {
   "cell_type": "code",
   "execution_count": 1,
   "metadata": {},
   "outputs": [],
   "source": [
    "import numpy as np\n",
    "import matplotlib.pyplot as plt\n",
    "import anaflow \n",
    "import scipy.special as sc\n",
    "import sympy as sp\n",
    "import mpmath as mp"
   ]
  },
  {
   "cell_type": "code",
   "execution_count": 2,
   "metadata": {},
   "outputs": [
    {
     "data": {
      "text/latex": [
       "$\\displaystyle u \\widetilde{p_d}{\\left(r_{d} \\right)} = \\frac{r_{d} \\frac{d^{2}}{d r_{d}^{2}} \\widetilde{p_d}{\\left(r_{d} \\right)} + \\frac{d}{d r_{d}} \\widetilde{p_d}{\\left(r_{d} \\right)}}{r_{d}}$"
      ],
      "text/plain": [
       "Eq(u*\\widetilde{p_d}(r_d), (r_d*Derivative(\\widetilde{p_d}(r_d), (r_d, 2)) + Derivative(\\widetilde{p_d}(r_d), r_d))/r_d)"
      ]
     },
     "metadata": {},
     "output_type": "display_data"
    }
   ],
   "source": [
    "\"\"\"\n",
    "Построим общее решение уравнения фильтрации с использованием sympy\n",
    "\"\"\"\n",
    "# определим переменные с которыми будем работать \n",
    "t_d = sp.symbols('t_d', real=True, positive=True)\n",
    "r_d = sp.symbols('r_d', real=True, positive=True)\n",
    "p_d = sp.symbols('p_d', cls=sp.Function, real=True, positive=True)\n",
    "Lp_d = sp.symbols(r'\\widetilde{p_d}', cls=sp.Function, \n",
    "                  real=True, positive=True)\n",
    "u = sp.symbols('u',real=True, positive=True)\n",
    "A, B = sp.symbols('A B')\n",
    "q_d = sp.symbols('q_D', real=True, positive=True)\n",
    "Lq_d = sp.symbols(r'\\widetilde{q_D}', real=True, positive=True)\n",
    "\n",
    "# определим уравнение фильтрации в пространстве Лапласа\n",
    "diff_eq = sp.Eq(u * Lp_d(r_d),\n",
    "                1/r_d * (sp.diff(r_d*sp.diff(Lp_d(r_d), r_d), r_d)))\n",
    "# отобразим полученное уравнение\n",
    "display(diff_eq)"
   ]
  },
  {
   "cell_type": "code",
   "execution_count": 3,
   "metadata": {},
   "outputs": [],
   "source": [
    "dq_d = sp.symbols('dq_d', real=True, positive=True)"
   ]
  },
  {
   "cell_type": "code",
   "execution_count": 4,
   "metadata": {},
   "outputs": [
    {
     "name": "stdout",
     "output_type": "stream",
     "text": [
      "граничное условие на скважине\n"
     ]
    },
    {
     "data": {
      "text/latex": [
       "$\\displaystyle r_{d} \\frac{\\partial}{\\partial r_{d}} p_{d}{\\left(r_{d},t_{d} \\right)} = - dq_{d} t_{d}$"
      ],
      "text/plain": [
       "Eq(r_d*Derivative(p_d(r_d, t_d), r_d), -dq_d*t_d)"
      ]
     },
     "metadata": {},
     "output_type": "display_data"
    }
   ],
   "source": [
    "# граничное условие на скважине\n",
    "print('граничное условие на скважине')\n",
    "eq_boundary = sp.Eq(r_d * sp.diff(p_d(r_d,t_d), r_d) , -dq_d * t_d)\n",
    "display(eq_boundary)"
   ]
  },
  {
   "cell_type": "code",
   "execution_count": 46,
   "metadata": {},
   "outputs": [
    {
     "name": "stdout",
     "output_type": "stream",
     "text": [
      "граничное условие на скважине в пространстве Лапласа\n"
     ]
    },
    {
     "data": {
      "text/latex": [
       "$\\displaystyle r_{d} \\mathcal{L}_{t_{d}}\\left[\\frac{\\partial}{\\partial r_{d}} p_{d}{\\left(r_{d},t_{d} \\right)}\\right]\\left(u\\right) = - \\frac{dq_{d}}{u^{2}}$"
      ],
      "text/plain": [
       "Eq(r_d*LaplaceTransform(Derivative(p_d(r_d, t_d), r_d), t_d, u), -dq_d/u**2)"
      ]
     },
     "metadata": {},
     "output_type": "display_data"
    },
    {
     "name": "stdout",
     "output_type": "stream",
     "text": [
      "решения для бесконечного пласта\n"
     ]
    },
    {
     "data": {
      "text/plain": [
       "[dq_d/(r_wd*u**(5/2)*besselk(1, r_wd*sqrt(u)))]"
      ]
     },
     "metadata": {},
     "output_type": "display_data"
    },
    {
     "name": "stdout",
     "output_type": "stream",
     "text": [
      "решение в пространстве Лапласа\n"
     ]
    },
    {
     "data": {
      "text/latex": [
       "$\\displaystyle \\widetilde{p_d}{\\left(r_{d} \\right)} = \\frac{dq_{d} K_{0}\\left(r_{d} \\sqrt{u}\\right)}{r_{wd} u^{\\frac{5}{2}} K_{1}\\left(r_{wd} \\sqrt{u}\\right)}$"
      ],
      "text/plain": [
       "Eq(\\widetilde{p_d}(r_d), dq_d*besselk(0, r_d*sqrt(u))/(r_wd*u**(5/2)*besselk(1, r_wd*sqrt(u))))"
      ]
     },
     "execution_count": 46,
     "metadata": {},
     "output_type": "execute_result"
    }
   ],
   "source": [
    "\n",
    "\n",
    "\"\"\"\n",
    "применим преобразование Лапласа к обеим частям граничного условия\n",
    "используя sympy преобразование Лапласа\n",
    "\"\"\"\n",
    "eq_boundary_Laplace = sp.Eq(\n",
    "    sp.laplace_transform(eq_boundary.lhs, t_d, u, noconds=True),  \n",
    "    sp.laplace_transform(eq_boundary.rhs, t_d, u, noconds=True)\n",
    "                            )\n",
    "print('граничное условие на скважине в пространстве Лапласа')\n",
    "display(eq_boundary_Laplace)\n",
    "\"\"\"\n",
    "зададим в явном виде решение с использованием K_0 и I_0\n",
    "будем далее работать с этим решением\n",
    "\"\"\"\n",
    "A, B = sp.symbols('A B')\n",
    "soln2 = sp.Eq(Lp_d(r_d) , \n",
    "              A * sp.besselk(0, r_d * sp.sqrt(u)) + \n",
    "              B * sp.besseli(0, r_d * sp.sqrt(u)))\n",
    "soln2\n",
    "\"\"\"\n",
    "Общее условие с учетом B=0\n",
    "\"\"\"\n",
    "soln3 = soln2.subs(B, 0)\n",
    "soln3\n",
    "\"\"\"\n",
    "Подставим общее решение в выражение для граничного условия 2\n",
    "\"\"\"\n",
    "bc2 = sp.Eq(r_d * soln3.rhs.diff(r_d), eq_boundary_Laplace.rhs)\n",
    "bc2\n",
    "\"\"\"\n",
    "найдем А решив алгебраическое уравнение\n",
    "\"\"\"\n",
    "# определим символ для безразмерного радиуса скважины\n",
    "r_wd = sp.symbols('r_wd', real=True, positive=True)\n",
    "# решим алгебраическое уравнение\n",
    "bc2_sol = sp.solve(bc2.subs(r_d, r_wd), A)\n",
    "# выведем все решения\n",
    "print('решения для бесконечного пласта')\n",
    "display(bc2_sol)\n",
    "\"\"\"\n",
    "подставим полученное решение в уравнение  \n",
    "получим решение для произвольного радиуса скважины\n",
    "\"\"\"\n",
    "soln4 = soln3.subs(A, bc2_sol[0])\n",
    "print('решение в пространстве Лапласа')\n",
    "soln4"
   ]
  },
  {
   "cell_type": "code",
   "execution_count": 47,
   "metadata": {},
   "outputs": [
    {
     "data": {
      "text/latex": [
       "$\\displaystyle \\widetilde{p_d}{\\left(r_{d} \\right)} = \\frac{dq_{d} K_{0}\\left(r_{d} \\sqrt{u}\\right)}{u^{\\frac{5}{2}} K_{1}\\left(\\sqrt{u}\\right)}$"
      ],
      "text/plain": [
       "Eq(\\widetilde{p_d}(r_d), dq_d*besselk(0, r_d*sqrt(u))/(u**(5/2)*besselk(1, sqrt(u))))"
      ]
     },
     "execution_count": 47,
     "metadata": {},
     "output_type": "execute_result"
    }
   ],
   "source": [
    "\"\"\"\n",
    "Найдем предел решения для конечного радиуса скважины при \n",
    "стремлении радиуса скважины к нулю\n",
    "\"\"\"\n",
    "soln6 = sp.Eq(soln4.lhs, sp.limit(soln4.rhs, r_wd, 1))\n",
    "soln6"
   ]
  },
  {
   "cell_type": "code",
   "execution_count": 48,
   "metadata": {},
   "outputs": [],
   "source": [
    "pd_linq = sp.lambdify([u, r_d, dq_d], soln6.rhs, modules=[\"scipy\",\"numpy\"]) "
   ]
  },
  {
   "cell_type": "code",
   "execution_count": 49,
   "metadata": {},
   "outputs": [],
   "source": [
    "# функция расчета безразмерного давления на основе\n",
    "# численного обратного преобразования Лапласа\n",
    "def pd_lineq_inv(td, r_d=1., dq_d=1.):\n",
    "    \"\"\"\n",
    "    расчет решения линейного стока для безразмерного давления\n",
    "    на основе численного обратного преобразования Лапласа \n",
    "    (алгоритм Стефеста)\n",
    "    t_d - безразмерное давление, число или numpy массив\n",
    "    r_d - безразмерный радиус, по умолчанию rd=1 - соответствует\n",
    "         давлению на забое, должно быть числом\n",
    "    результат массив массивов давления от времени\n",
    "    \"\"\"\n",
    "    td = np.where(td>0, td, 0.001)\n",
    "    pd_inv = anaflow.get_lap_inv(pd_linq, r_d=r_d, dq_d=dq_d) \n",
    "    return pd_inv(td) * np.heaviside(td, 0)"
   ]
  },
  {
   "cell_type": "code",
   "execution_count": 50,
   "metadata": {},
   "outputs": [],
   "source": [
    "pd_lineq_inv1 = np.vectorize(pd_lineq_inv)"
   ]
  },
  {
   "cell_type": "code",
   "execution_count": 51,
   "metadata": {},
   "outputs": [],
   "source": [
    "\n",
    "# Решение линейного стока уравнения фильтрации\n",
    "def pd_lin_ei(td, rd=1, dqd_dtd=1):\n",
    "    \"\"\"\n",
    "    Решение линейного стока уравнения фильтрации\n",
    "    rd - безразмерное расстояние\n",
    "    td - безразмерное время\n",
    "    \"\"\"\n",
    "    # при расчете убедимся, что td=0 не повлияет на расчет, \n",
    "    # даже если td массив и нулевой только один элемент\n",
    "    td = np.array(td, dtype = float)\n",
    "    pd =  (1 + rd**2/4/td) * (-sc.expi(-rd**2/4/td)) - np.exp(-rd**2/4/td)\n",
    "    return dqd_dtd * td * pd / 2 * np.heaviside(td, 0)"
   ]
  },
  {
   "cell_type": "code",
   "execution_count": 52,
   "metadata": {},
   "outputs": [
    {
     "data": {
      "text/plain": [
       "array([-2.35416951e-05, -2.35416951e-05, -2.35416951e-05, -2.35416951e-05,\n",
       "       -2.35416951e-05, -2.35416951e-05, -2.35416951e-05, -2.35416951e-05,\n",
       "       -2.35416951e-05, -2.35416951e-05, -2.35416951e-05, -2.35416951e-05,\n",
       "       -2.35416951e-05, -2.35416951e-05, -2.35416951e-05, -2.35416951e-05,\n",
       "       -2.35416951e-05, -2.35416951e-05, -2.35416951e-05, -2.35416951e-05,\n",
       "       -2.35416951e-05, -2.35416951e-05, -2.35416951e-05, -2.35416951e-05,\n",
       "       -2.35416951e-05, -2.35416951e-05, -2.35416951e-05, -2.35416951e-05,\n",
       "       -2.35416951e-05, -2.35416951e-05, -2.35416951e-05, -2.35416951e-05,\n",
       "       -2.35416951e-05, -2.35416951e-05, -2.35416951e-05, -2.35416951e-05,\n",
       "       -2.35416951e-05, -2.35416951e-05, -2.35416951e-05, -2.35416951e-05,\n",
       "       -2.35416951e-05, -2.35416951e-05, -2.35416951e-05, -2.35416951e-05,\n",
       "       -2.35416951e-05, -2.35416951e-05, -2.35416951e-05, -2.35416951e-05,\n",
       "       -2.35416951e-05, -2.35416951e-05, -7.39264783e-04, -3.75508747e-03,\n",
       "       -7.95814278e-03, -1.30248128e-02, -1.87951059e-02, -2.51686303e-02,\n",
       "       -3.20749362e-02, -3.94611577e-02, -4.72857950e-02, -5.55151931e-02,\n",
       "       -6.41213787e-02, -7.30806467e-02, -8.23725931e-02, -9.19794291e-02,\n",
       "       -1.01885477e-01, -1.12076793e-01, -1.22540877e-01, -1.33266444e-01,\n",
       "       -1.44243249e-01, -1.55461936e-01, -1.66913922e-01, -1.78591300e-01,\n",
       "       -1.90486756e-01, -2.02593502e-01, -2.14905217e-01, -2.27415999e-01,\n",
       "       -2.40120320e-01, -2.53012993e-01, -2.66089134e-01, -2.79344140e-01,\n",
       "       -2.92773664e-01, -3.06373588e-01, -3.20140009e-01, -3.34069220e-01,\n",
       "       -3.48157697e-01, -3.62402079e-01, -3.76799165e-01, -3.91345895e-01,\n",
       "       -4.06039343e-01, -4.20876709e-01, -4.35855309e-01, -4.50972570e-01,\n",
       "       -4.66226019e-01, -4.81613279e-01, -4.97132064e-01, -5.12780175e-01,\n",
       "       -5.28555489e-01, -5.44455961e-01, -5.60479618e-01, -5.76624552e-01])"
      ]
     },
     "execution_count": 52,
     "metadata": {},
     "output_type": "execute_result"
    }
   ],
   "source": [
    " pd_lineq_inv(tdd, dq_d=[-1])"
   ]
  },
  {
   "cell_type": "code",
   "execution_count": 53,
   "metadata": {},
   "outputs": [
    {
     "data": {
      "text/plain": [
       "array([-0.00000000e+00, -0.00000000e+00, -0.00000000e+00, -0.00000000e+00,\n",
       "       -0.00000000e+00, -0.00000000e+00, -0.00000000e+00, -0.00000000e+00,\n",
       "       -0.00000000e+00, -0.00000000e+00, -0.00000000e+00, -0.00000000e+00,\n",
       "       -0.00000000e+00, -0.00000000e+00, -0.00000000e+00, -0.00000000e+00,\n",
       "       -0.00000000e+00, -0.00000000e+00, -0.00000000e+00, -0.00000000e+00,\n",
       "       -0.00000000e+00, -0.00000000e+00, -0.00000000e+00, -0.00000000e+00,\n",
       "       -0.00000000e+00, -0.00000000e+00, -0.00000000e+00, -0.00000000e+00,\n",
       "       -0.00000000e+00, -0.00000000e+00, -0.00000000e+00, -0.00000000e+00,\n",
       "       -0.00000000e+00, -0.00000000e+00, -0.00000000e+00, -0.00000000e+00,\n",
       "       -0.00000000e+00, -0.00000000e+00, -0.00000000e+00, -0.00000000e+00,\n",
       "       -0.00000000e+00, -0.00000000e+00, -0.00000000e+00, -0.00000000e+00,\n",
       "       -0.00000000e+00, -0.00000000e+00,  0.00000000e+00,  0.00000000e+00,\n",
       "        0.00000000e+00,  0.00000000e+00, -1.26837410e-16, -3.95331759e-08,\n",
       "       -4.09434704e-06, -3.92631445e-05, -1.58779868e-04, -4.20972949e-04,\n",
       "       -8.75713047e-04, -1.56108349e-03, -2.50438696e-03, -3.72426228e-03,\n",
       "       -5.23274429e-03, -7.03695390e-03, -9.14039928e-03, -1.15439512e-02,\n",
       "       -1.42465664e-02, -1.72458222e-02, -2.05383116e-02, -2.41199367e-02,\n",
       "       -2.79861256e-02, -3.21319941e-02, -3.65524669e-02, -4.12423666e-02,\n",
       "       -4.61964809e-02, -5.14096117e-02, -5.68766120e-02, -6.25924120e-02,\n",
       "       -6.85520383e-02, -7.47506270e-02, -8.11834329e-02, -8.78458350e-02,\n",
       "       -9.47333399e-02, -1.01841582e-01, -1.09166326e-01, -1.16703461e-01,\n",
       "       -1.24449002e-01, -1.32399088e-01, -1.40549974e-01, -1.48898035e-01,\n",
       "       -1.57439753e-01, -1.66171724e-01, -1.75090646e-01, -1.84193318e-01,\n",
       "       -1.93476637e-01, -2.02937595e-01, -2.12573274e-01, -2.22380842e-01,\n",
       "       -2.32357553e-01, -2.42500739e-01, -2.52807811e-01, -2.63276255e-01])"
      ]
     },
     "execution_count": 53,
     "metadata": {},
     "output_type": "execute_result"
    }
   ],
   "source": [
    "pd_lin_ei(tdd, dqd_dtd=[-1])"
   ]
  },
  {
   "cell_type": "code",
   "execution_count": 54,
   "metadata": {},
   "outputs": [
    {
     "data": {
      "image/png": "[encoded data removed]",
      "text/plain": [
       "<Figure size 1200x800 with 1 Axes>"
      ]
     },
     "metadata": {},
     "output_type": "display_data"
    }
   ],
   "source": [
    "tdd =np.linspace(-1,1,100)\n",
    "plt.plot(tdd, pd_lineq_inv(tdd, dq_d=-1), label = 'lapl')\n",
    "plt.plot(tdd, pd_lin_ei(tdd, dqd_dtd=-1), label='ei')\n",
    "plt.legend()\n",
    "plt.show()"
   ]
  },
  {
   "cell_type": "code",
   "execution_count": 55,
   "metadata": {},
   "outputs": [],
   "source": [
    "def pd_superposition_lin(td, td_hist, qd_hist):\n",
    "    \"\"\"\n",
    "    расчет безразмерного давления для последовательности \n",
    "    безразмерных дебитов\n",
    "    - td -  время расчета после запуска, безразмерное\n",
    "    - td_hist - массив времен изменения режимов работы, безразмерное\n",
    "    - qd_hist - массив дебитов после изменения режима работы, безразмерное\n",
    "    \"\"\"\n",
    "    # принудительно добавим нули во входные массивы, \n",
    "    # чтобы учесть запуск скважины\n",
    "    qdh = np.hstack([qd_hist])\n",
    "    tdh = np.hstack([td_hist])\n",
    "    # построим дебиты виртуальных скважин \n",
    "    # разности реальных дебитов при переключении\n",
    "    delta_qd = np.hstack([np.diff(qdh),0])\n",
    "    delta_td = np.hstack([np.diff(tdh),1])\n",
    "    \n",
    "    dq_dt = delta_qd / delta_td\n",
    "    dq_dt = np.diff(np.hstack([0, delta_qd / delta_td]))\n",
    "    \n",
    "    # референсный безразмерный дебит это 1\n",
    "    \n",
    "    # векторная магия - время как вектор и переключения дебитов тоже \n",
    "    # организуем сумму по временам, внутри сумма по переключениям\n",
    "    # делаем при помощи расчета meshgrid и поиска накопленных сумм\n",
    "    qd_v, td_v =np.meshgrid(delta_qd, td)\n",
    "    \n",
    "    dpd = np.cumsum(pd_lin_ei((td_v - tdh), \n",
    "                              dqd_dtd=dq_dt) * np.heaviside((td_v - tdh), 1),1 )\n",
    "\n",
    "    return dpd[:,-1]\n",
    "\n",
    "def pd_superposition_lin1(td, td_hist, qd_hist):\n",
    "    \"\"\"\n",
    "    расчет безразмерного давления для последовательности \n",
    "    безразмерных дебитов\n",
    "    - td -  время расчета после запуска, безразмерное\n",
    "    - td_hist - массив времен изменения режимов работы, безразмерное\n",
    "    - qd_hist - массив дебитов после изменения режима работы, безразмерное\n",
    "    \"\"\"\n",
    "    # принудительно добавим нули во входные массивы, \n",
    "    # чтобы учесть запуск скважины\n",
    "    qdh = np.hstack([qd_hist])\n",
    "    tdh = np.hstack([td_hist])\n",
    "    # построим дебиты виртуальных скважин \n",
    "    # разности реальных дебитов при переключении\n",
    "    delta_qd = np.hstack([np.diff(qdh),0])\n",
    "    delta_td = np.hstack([np.diff(tdh),1])\n",
    "    \n",
    "    dq_dt = delta_qd / delta_td\n",
    "    dq_dt = np.diff(np.hstack([0, delta_qd / delta_td]))\n",
    "    \n",
    "    # референсный безразмерный дебит это 1\n",
    "    \n",
    "    # векторная магия - время как вектор и переключения дебитов тоже \n",
    "    # организуем сумму по временам, внутри сумма по переключениям\n",
    "    # делаем при помощи расчета meshgrid и поиска накопленных сумм\n",
    "    qd_v, td_v =np.meshgrid(delta_qd, td)\n",
    "    \n",
    "    dpd = np.cumsum(pd_lineq_inv1((td_v - tdh), \n",
    "                              dq_d=dq_dt) * np.heaviside((td_v - tdh), 1),1 )\n",
    "\n",
    "    return dpd[:,-1]\n",
    "\n",
    "def q_superposition(t, t_hist, q_hist):\n",
    "    \"\"\"\n",
    "    расчет давления для запуска и последующей остановки скважины\n",
    "    t_hr - время после запуска в часах\n",
    "    t_hist_hr - массив времен изменения режимов работы скважин\n",
    "    q_hist_sm3day - массив дебитов установленных после изменения режима работы\n",
    "    \"\"\"\n",
    "    def interpolate_constant(x, xp, yp):\n",
    "        indices = np.searchsorted(xp, x, side='right')\n",
    "        y = np.concatenate(([0], yp))\n",
    "        return y[indices]\n",
    "\n",
    "    q=[]\n",
    "    for ti in t:\n",
    "        q.append(interpolate_constant(ti, t_hist, q_hist))\n",
    "    return q"
   ]
  },
  {
   "cell_type": "code",
   "execution_count": 56,
   "metadata": {},
   "outputs": [
    {
     "name": "stderr",
     "output_type": "stream",
     "text": [
      "C:\\Users\\rnt\\AppData\\Local\\Temp\\ipykernel_4580\\643557215.py:11: RuntimeWarning: divide by zero encountered in divide\n",
      "  pd =  (1 + rd**2/4/td) * (-sc.expi(-rd**2/4/td)) - np.exp(-rd**2/4/td)\n",
      "C:\\Users\\rnt\\AppData\\Local\\Temp\\ipykernel_4580\\643557215.py:11: RuntimeWarning: invalid value encountered in multiply\n",
      "  pd =  (1 + rd**2/4/td) * (-sc.expi(-rd**2/4/td)) - np.exp(-rd**2/4/td)\n"
     ]
    },
    {
     "data": {
      "image/png": "[encoded data removed]",
      "text/plain": [
       "<Figure size 1200x800 with 2 Axes>"
      ]
     },
     "metadata": {},
     "output_type": "display_data"
    }
   ],
   "source": [
    "td_arr = np.linspace(1, 200, 200)\n",
    "\n",
    "\n",
    "td_history = np.array([0., 10, 50, 100 ], dtype=np.float64) \n",
    "qd_history = np.array([0., 3, 1.4, 1.0], dtype=np.float64)\n",
    "\n",
    "plt.rcParams[\"figure.figsize\"] = (12,8)\n",
    "fig, (ax1, ax2) = plt.subplots(2,1)\n",
    "\n",
    "ax1.plot(td_arr, q_superposition(td_arr, td_history, qd_history)) \n",
    "ax1.plot(td_arr, np.interp(td_arr, td_history, qd_history)) \n",
    "ax2.plot(td_arr, \n",
    "         pd_superposition_lin(td_arr, td_history, qd_history), \n",
    "         color='red') \n",
    "ax2.plot(td_arr, \n",
    "         pd_superposition_lin1(td_arr, td_history, qd_history), \n",
    "         color='blue') \n",
    "ax2.set_xlabel('td')\n",
    "ax1.set_ylabel('qd')\n",
    "ax2.set_ylabel('pd')\n",
    "plt.show()"
   ]
  },
  {
   "cell_type": "code",
   "execution_count": null,
   "metadata": {},
   "outputs": [],
   "source": []
  },
  {
   "cell_type": "code",
   "execution_count": null,
   "metadata": {},
   "outputs": [],
   "source": []
  }
 ],
 "metadata": {
  "kernelspec": {
   "display_name": ".venv",
   "language": "python",
   "name": "python3"
  },
  "language_info": {
   "codemirror_mode": {
    "name": "ipython",
    "version": 3
   },
   "file_extension": ".py",
   "mimetype": "text/x-python",
   "name": "python",
   "nbconvert_exporter": "python",
   "pygments_lexer": "ipython3",
   "version": "3.12.7"
  }
 },
 "nbformat": 4,
 "nbformat_minor": 2
}
