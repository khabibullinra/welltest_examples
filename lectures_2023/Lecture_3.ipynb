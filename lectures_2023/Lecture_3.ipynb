{
 "cells": [
  {
   "cell_type": "markdown",
   "id": "b5742e74-2e70-4fae-962d-627e4e1d9cf9",
   "metadata": {},
   "source": [
    "Лекция 3 для курсов \"Исследования скважин и пластов\" и \"Гидродинамические исследования скважин\" РГУ нефти и газа имени И.М.Губкина\n",
    "\n",
    "Здесь будет лекция про решения уравнения фильтрации построенные с использованием преобразования Лапласа\n",
    "\n",
    "версия 0.1 от 25.09.2023 Хабибуллин Ринат\n"
   ]
  },
  {
   "cell_type": "code",
   "execution_count": null,
   "id": "7d0aabdc-4b58-4b03-b533-2ccedc7ddd92",
   "metadata": {},
   "outputs": [],
   "source": [
    "# Содержание\n",
    "\n",
    "    2.1 Основы теории гидродинамических исследований"
   ]
  }
 ],
 "metadata": {
  "kernelspec": {
   "display_name": "Python 3 (ipykernel)",
   "language": "python",
   "name": "python3"
  },
  "language_info": {
   "codemirror_mode": {
    "name": "ipython",
    "version": 3
   },
   "file_extension": ".py",
   "mimetype": "text/x-python",
   "name": "python",
   "nbconvert_exporter": "python",
   "pygments_lexer": "ipython3",
   "version": "3.11.4"
  }
 },
 "nbformat": 4,
 "nbformat_minor": 5
}
