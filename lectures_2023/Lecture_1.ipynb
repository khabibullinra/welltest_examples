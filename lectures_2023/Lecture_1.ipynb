{
 "cells": [
  {
   "cell_type": "markdown",
   "id": "f9923b79-d454-4c06-8795-c6512cb76169",
   "metadata": {},
   "source": [
    "Лекция 1 для курсов \"Исследования скважин и пластов\" и \"Гидродинамические исследования скважин\" РГУ нефти и газа имени И.М.Губкина\n",
    "\n",
    "Здесь будет лекция по построению деревьев решений"
   ]
  },
  {
   "cell_type": "code",
   "execution_count": null,
   "id": "c79afefe-eee0-46a4-b860-56b9b8efe64f",
   "metadata": {},
   "outputs": [],
   "source": []
  }
 ],
 "metadata": {
  "kernelspec": {
   "display_name": "Python 3 (ipykernel)",
   "language": "python",
   "name": "python3"
  },
  "language_info": {
   "codemirror_mode": {
    "name": "ipython",
    "version": 3
   },
   "file_extension": ".py",
   "mimetype": "text/x-python",
   "name": "python",
   "nbconvert_exporter": "python",
   "pygments_lexer": "ipython3",
   "version": "3.10.12"
  }
 },
 "nbformat": 4,
 "nbformat_minor": 5
}
