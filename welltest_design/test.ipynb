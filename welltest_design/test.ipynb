{
 "cells": [
  {
   "cell_type": "markdown",
   "metadata": {},
   "source": [
    "Попробуем отладить схему переноса кода из vba\n"
   ]
  },
  {
   "cell_type": "code",
   "execution_count": 1,
   "metadata": {},
   "outputs": [],
   "source": [
    "from test_f import *"
   ]
  },
  {
   "cell_type": "code",
   "execution_count": 2,
   "metadata": {},
   "outputs": [
    {
     "data": {
      "text/plain": [
       "9"
      ]
     },
     "execution_count": 2,
     "metadata": {},
     "output_type": "execute_result"
    }
   ],
   "source": [
    "tst(3)"
   ]
  },
  {
   "cell_type": "code",
   "execution_count": null,
   "metadata": {},
   "outputs": [],
   "source": [
    "import scipy.special as sp"
   ]
  },
  {
   "cell_type": "code",
   "execution_count": 4,
   "metadata": {},
   "outputs": [
    {
     "ename": "AttributeError",
     "evalue": "module 'scipy.special' has no attribute 'pi'",
     "output_type": "error",
     "traceback": [
      "\u001b[1;31m---------------------------------------------------------------------------\u001b[0m",
      "\u001b[1;31mAttributeError\u001b[0m                            Traceback (most recent call last)",
      "Cell \u001b[1;32mIn[4], line 1\u001b[0m\n\u001b[1;32m----> 1\u001b[0m \u001b[43msp\u001b[49m\u001b[38;5;241;43m.\u001b[39;49m\u001b[43mpi\u001b[49m \n",
      "\u001b[1;31mAttributeError\u001b[0m: module 'scipy.special' has no attribute 'pi'"
     ]
    }
   ],
   "source": [
    "sp.pi "
   ]
  },
  {
   "cell_type": "code",
   "execution_count": 5,
   "metadata": {},
   "outputs": [],
   "source": [
    "import scipy.constants as sc"
   ]
  },
  {
   "cell_type": "code",
   "execution_count": 6,
   "metadata": {},
   "outputs": [
    {
     "data": {
      "text/plain": [
       "3.141592653589793"
      ]
     },
     "execution_count": 6,
     "metadata": {},
     "output_type": "execute_result"
    }
   ],
   "source": [
    "sc.pi"
   ]
  },
  {
   "cell_type": "code",
   "execution_count": 8,
   "metadata": {},
   "outputs": [
    {
     "data": {
      "text/plain": [
       "<module 'scipy.constants' from 'c:\\\\projects\\\\welltest_examples\\\\.venv\\\\Lib\\\\site-packages\\\\scipy\\\\constants\\\\__init__.py'>"
      ]
     },
     "execution_count": 8,
     "metadata": {},
     "output_type": "execute_result"
    }
   ],
   "source": [
    "sc"
   ]
  },
  {
   "cell_type": "code",
   "execution_count": 9,
   "metadata": {},
   "outputs": [
    {
     "data": {
      "text/plain": [
       "np.float64(0.42102443824070823)"
      ]
     },
     "execution_count": 9,
     "metadata": {},
     "output_type": "execute_result"
    }
   ],
   "source": [
    "sp.k0(1)"
   ]
  },
  {
   "cell_type": "code",
   "execution_count": 10,
   "metadata": {},
   "outputs": [
    {
     "name": "stdout",
     "output_type": "stream",
     "text": [
      "\u001b[1;31mSignature:\u001b[0m       \u001b[0msp\u001b[0m\u001b[1;33m.\u001b[0m\u001b[0mk0\u001b[0m\u001b[1;33m(\u001b[0m\u001b[1;33m*\u001b[0m\u001b[0margs\u001b[0m\u001b[1;33m,\u001b[0m \u001b[1;33m**\u001b[0m\u001b[0mkwargs\u001b[0m\u001b[1;33m)\u001b[0m\u001b[1;33m\u001b[0m\u001b[1;33m\u001b[0m\u001b[0m\n",
      "\u001b[1;31mType:\u001b[0m            ufunc\n",
      "\u001b[1;31mString form:\u001b[0m     <ufunc 'k0'>\n",
      "\u001b[1;31mFile:\u001b[0m            c:\\projects\\welltest_examples\\.venv\\lib\\site-packages\\numpy\\__init__.py\n",
      "\u001b[1;31mDocstring:\u001b[0m      \n",
      "k0(x, /, out=None, *, where=True, casting='same_kind', order='K', dtype=None, subok=True[, signature])\n",
      "\n",
      "k0(x, out=None)\n",
      "\n",
      "Modified Bessel function of the second kind of order 0, :math:`K_0`.\n",
      "\n",
      "This function is also sometimes referred to as the modified Bessel\n",
      "function of the third kind of order 0.\n",
      "\n",
      "Parameters\n",
      "----------\n",
      "x : array_like\n",
      "    Argument (float).\n",
      "out : ndarray, optional\n",
      "    Optional output array for the function values\n",
      "\n",
      "Returns\n",
      "-------\n",
      "K : scalar or ndarray\n",
      "    Value of the modified Bessel function :math:`K_0` at `x`.\n",
      "\n",
      "See Also\n",
      "--------\n",
      "kv: Modified Bessel function of the second kind of any order\n",
      "k0e: Exponentially scaled modified Bessel function of the second kind\n",
      "\n",
      "Notes\n",
      "-----\n",
      "The range is partitioned into the two intervals [0, 2] and (2, infinity).\n",
      "Chebyshev polynomial expansions are employed in each interval.\n",
      "\n",
      "This function is a wrapper for the Cephes [1]_ routine `k0`.\n",
      "\n",
      "References\n",
      "----------\n",
      ".. [1] Cephes Mathematical Functions Library,\n",
      "       http://www.netlib.org/cephes/\n",
      "\n",
      "Examples\n",
      "--------\n",
      "Calculate the function at one point:\n",
      "\n",
      ">>> from scipy.special import k0\n",
      ">>> k0(1.)\n",
      "0.42102443824070823\n",
      "\n",
      "Calculate the function at several points:\n",
      "\n",
      ">>> import numpy as np\n",
      ">>> k0(np.array([0.5, 2., 3.]))\n",
      "array([0.92441907, 0.11389387, 0.0347395 ])\n",
      "\n",
      "Plot the function from 0 to 10.\n",
      "\n",
      ">>> import matplotlib.pyplot as plt\n",
      ">>> fig, ax = plt.subplots()\n",
      ">>> x = np.linspace(0., 10., 1000)\n",
      ">>> y = k0(x)\n",
      ">>> ax.plot(x, y)\n",
      ">>> plt.show()\n",
      "\u001b[1;31mClass docstring:\u001b[0m\n",
      "Functions that operate element by element on whole arrays.\n",
      "\n",
      "To see the documentation for a specific ufunc, use `info`.  For\n",
      "example, ``np.info(np.sin)``.  Because ufuncs are written in C\n",
      "(for speed) and linked into Python with NumPy's ufunc facility,\n",
      "Python's help() function finds this page whenever help() is called\n",
      "on a ufunc.\n",
      "\n",
      "A detailed explanation of ufuncs can be found in the docs for :ref:`ufuncs`.\n",
      "\n",
      "**Calling ufuncs:** ``op(*x[, out], where=True, **kwargs)``\n",
      "\n",
      "Apply `op` to the arguments `*x` elementwise, broadcasting the arguments.\n",
      "\n",
      "The broadcasting rules are:\n",
      "\n",
      "* Dimensions of length 1 may be prepended to either array.\n",
      "* Arrays may be repeated along dimensions of length 1.\n",
      "\n",
      "Parameters\n",
      "----------\n",
      "*x : array_like\n",
      "    Input arrays.\n",
      "out : ndarray, None, or tuple of ndarray and None, optional\n",
      "    Alternate array object(s) in which to put the result; if provided, it\n",
      "    must have a shape that the inputs broadcast to. A tuple of arrays\n",
      "    (possible only as a keyword argument) must have length equal to the\n",
      "    number of outputs; use None for uninitialized outputs to be\n",
      "    allocated by the ufunc.\n",
      "where : array_like, optional\n",
      "    This condition is broadcast over the input. At locations where the\n",
      "    condition is True, the `out` array will be set to the ufunc result.\n",
      "    Elsewhere, the `out` array will retain its original value.\n",
      "    Note that if an uninitialized `out` array is created via the default\n",
      "    ``out=None``, locations within it where the condition is False will\n",
      "    remain uninitialized.\n",
      "**kwargs\n",
      "    For other keyword-only arguments, see the :ref:`ufunc docs <ufuncs.kwargs>`.\n",
      "\n",
      "Returns\n",
      "-------\n",
      "r : ndarray or tuple of ndarray\n",
      "    `r` will have the shape that the arrays in `x` broadcast to; if `out` is\n",
      "    provided, it will be returned. If not, `r` will be allocated and\n",
      "    may contain uninitialized values. If the function has more than one\n",
      "    output, then the result will be a tuple of arrays."
     ]
    }
   ],
   "source": [
    "?sp.k0"
   ]
  },
  {
   "cell_type": "code",
   "execution_count": 11,
   "metadata": {},
   "outputs": [
    {
     "name": "stdout",
     "output_type": "stream",
     "text": [
      "1.7332742499203955\n"
     ]
    }
   ],
   "source": [
    "import numpy as np\n",
    "\n",
    "# Constants\n",
    "y0 = 0.5016\n",
    "a1 = -0.27117\n",
    "a2 = -0.18903\n",
    "a3 = -0.0408\n",
    "t1 = 1.11076\n",
    "t2 = 5.49608\n",
    "t3 = 46.13981\n",
    "\n",
    "def xf_infinite(Fcd, xf_f):\n",
    "    x = Fcd\n",
    "    y = a1 * np.exp(-x / t1) + a2 * np.exp(-x / t2) + a3 * np.exp(-x / t3) + y0\n",
    "    return 2 * y * xf_f\n",
    "\n",
    "def xf_finite(kr, kf, b, xf_inf):\n",
    "    xf_fin = 1.0\n",
    "    n = 20000\n",
    "    for i in range(1, n + 1):\n",
    "        f = kf * b * 0.001 / kr / xf_fin\n",
    "        xf_besk = xf_infinite(f, xf_fin)\n",
    "        if xf_besk > xf_inf:\n",
    "            break\n",
    "        xf_fin += 0.5\n",
    "    else:\n",
    "        return \">10000\"\n",
    "    return xf_fin\n",
    "\n",
    "def Skin_Prats(rw, kf_wf, kr, xf, Flag, Fcd=None):\n",
    "    if Flag == 2:\n",
    "        return -np.log(xf / (2 * rw))\n",
    "    \n",
    "    if Fcd is None or Fcd == 0:\n",
    "        Fcd = kf_wf / (xf * kr)\n",
    "    \n",
    "    xf = xf_infinite(Fcd, xf)\n",
    "    \n",
    "    return -np.log(xf / (2 * rw))\n",
    "\n",
    "# Example usage\n",
    "print(Skin_Prats(1.0, 2.0, 3.0, 4.0, 1))"
   ]
  },
  {
   "cell_type": "code",
   "execution_count": 12,
   "metadata": {},
   "outputs": [],
   "source": [
    "def aaa(s, *w ,**ss):\n",
    "    print(w)\n",
    "    return ss "
   ]
  },
  {
   "cell_type": "code",
   "execution_count": 13,
   "metadata": {},
   "outputs": [
    {
     "name": "stdout",
     "output_type": "stream",
     "text": [
      "(3, 4)\n"
     ]
    },
    {
     "data": {
      "text/plain": [
       "{}"
      ]
     },
     "execution_count": 13,
     "metadata": {},
     "output_type": "execute_result"
    }
   ],
   "source": [
    "aaa(2, 3, 4)"
   ]
  },
  {
   "cell_type": "code",
   "execution_count": 16,
   "metadata": {},
   "outputs": [
    {
     "name": "stdout",
     "output_type": "stream",
     "text": [
      "(2, 5)\n"
     ]
    },
    {
     "data": {
      "text/plain": [
       "{'l': 34}"
      ]
     },
     "execution_count": 16,
     "metadata": {},
     "output_type": "execute_result"
    }
   ],
   "source": [
    "aaa(1, *(2,5), **{'l':34})"
   ]
  },
  {
   "cell_type": "code",
   "execution_count": null,
   "metadata": {},
   "outputs": [],
   "source": []
  }
 ],
 "metadata": {
  "kernelspec": {
   "display_name": ".venv",
   "language": "python",
   "name": "python3"
  },
  "language_info": {
   "codemirror_mode": {
    "name": "ipython",
    "version": 3
   },
   "file_extension": ".py",
   "mimetype": "text/x-python",
   "name": "python",
   "nbconvert_exporter": "python",
   "pygments_lexer": "ipython3",
   "version": "3.12.7"
  }
 },
 "nbformat": 4,
 "nbformat_minor": 2
}
